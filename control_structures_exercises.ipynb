{
 "cells": [
  {
   "cell_type": "markdown",
   "id": "1311c319",
   "metadata": {},
   "source": [
    "# 1. Conditional Basics"
   ]
  },
  {
   "cell_type": "markdown",
   "id": "ab0c0a1a",
   "metadata": {},
   "source": [
    "a. Prompt the user for a day of the week, print out whether the day is Monday or not"
   ]
  },
  {
   "cell_type": "code",
   "execution_count": null,
   "id": "66ea8593",
   "metadata": {},
   "outputs": [],
   "source": [
    "day = input('Pick a day of the week: ')\n",
    "day = day.strip().lower()\n",
    "\n",
    "if day == 'monday':\n",
    "    print('You picked Monday!')\n",
    "else:\n",
    "    print('You did not pick Monday!')"
   ]
  },
  {
   "cell_type": "markdown",
   "id": "78b3baf7",
   "metadata": {},
   "source": [
    "b. Prompt the user for a day of the week, print out whether the day is a weekday or a weekend"
   ]
  },
  {
   "cell_type": "code",
   "execution_count": null,
   "id": "c8401871",
   "metadata": {},
   "outputs": [],
   "source": [
    "day = input('Pick a day of the week: ')\n",
    "day = day.strip().lower()\n",
    "\n",
    "if day == 'saturday' or day == 'sunday':\n",
    "    print('Cheers to the weekend!')\n",
    "else:\n",
    "    print('Bummer! Not the weekend')"
   ]
  },
  {
   "cell_type": "markdown",
   "id": "15c4d39d",
   "metadata": {},
   "source": [
    "c. Calculate a weekly paycheck, accounting for overtime pay. Create variables and make up values for:\n",
    "\n",
    "-- The number of hours worked in one week\n",
    "\n",
    "-- The hourly rate\n",
    "\n",
    "For calculating pay:\n",
    "\n",
    "-- For working 40 hours or less, each hour is paid at the hourly rate\n",
    "\n",
    "-- For working more than 40 hours\n",
    "\n",
    "------  the first 40 hours are paid at the hourly rate\n",
    "\n",
    "------  each hour after 40 is paid at time and a half (hourly rate * 1.5)"
   ]
  },
  {
   "cell_type": "code",
   "execution_count": null,
   "id": "8696d4e0",
   "metadata": {},
   "outputs": [],
   "source": [
    "hour = float(input('How many hours did you work this week? '))\n",
    "hourly_rate = float(input('How much do you make an hour? '))\n",
    "\n",
    "if hour <= 40:\n",
    "    paycheck = hour * hourly_rate\n",
    "    print(f'Your paycheck is ${paycheck}.')\n",
    "else:\n",
    "    paycheck = (40 * hourly_rate) + ((hour - 40) * hourly_rate * 1.5)\n",
    "    print(f'Your paycheck is ${paycheck} with overtime.')"
   ]
  },
  {
   "cell_type": "markdown",
   "id": "15d5335d",
   "metadata": {},
   "source": [
    "# 2. Loop Basics\n",
    "## a. While\n",
    "i. Create an integer variable i with a value of 5. Create a while loop that runs so long as i is less than or equal to 15. Each loop iteration, output the current value of i, then increment i by one."
   ]
  },
  {
   "cell_type": "code",
   "execution_count": null,
   "id": "cc67b3fa",
   "metadata": {},
   "outputs": [],
   "source": [
    "i = 5\n",
    "\n",
    "while i <= 15:\n",
    "    print(i)\n",
    "    i += 1"
   ]
  },
  {
   "cell_type": "markdown",
   "id": "00dcfc7f",
   "metadata": {},
   "source": [
    "i. Create a while loop that will count by 2's starting with 0 and ending at 100. Follow each number with a new line."
   ]
  },
  {
   "cell_type": "code",
   "execution_count": null,
   "id": "c8f58928",
   "metadata": {},
   "outputs": [],
   "source": [
    "i = 0\n",
    "\n",
    "while i <= 100:\n",
    "    print(i)\n",
    "    i += 2"
   ]
  },
  {
   "cell_type": "markdown",
   "id": "e7e89538",
   "metadata": {},
   "source": [
    "ii. Create a while loop that starts at 2, and displays the number squared on each line while the number is less than 1,000,000."
   ]
  },
  {
   "cell_type": "code",
   "execution_count": null,
   "id": "de9abe92",
   "metadata": {},
   "outputs": [],
   "source": [
    "i = 2\n",
    "\n",
    "while i < 1000000:\n",
    "    print(i)\n",
    "    i = i**2"
   ]
  },
  {
   "cell_type": "markdown",
   "id": "d49b59f1",
   "metadata": {},
   "source": [
    "iii. Write a while loop that uses print to create the output shown below."
   ]
  },
  {
   "cell_type": "code",
   "execution_count": null,
   "id": "a105fad8",
   "metadata": {},
   "outputs": [],
   "source": [
    "i = 100\n",
    "\n",
    "while i > 0:\n",
    "    print(i)\n",
    "    i -= 5"
   ]
  },
  {
   "cell_type": "markdown",
   "id": "83fb4efe",
   "metadata": {},
   "source": [
    "## b. For Loops\n",
    "\n",
    "i. Write some code using a for loop that prompts the user for a number, then shows a multiplication table up through 10 for that number."
   ]
  },
  {
   "cell_type": "code",
   "execution_count": null,
   "id": "8878afdc",
   "metadata": {},
   "outputs": [],
   "source": [
    "i = int(input('Pick a number: '))\n",
    "times = [1,2,3,4,5,6,7,8,9,10]\n",
    "\n",
    "for number in times:\n",
    "    answer = i * number\n",
    "    print(f'{i} x {number} = {answer}')"
   ]
  },
  {
   "cell_type": "markdown",
   "id": "75c70eac",
   "metadata": {},
   "source": [
    "ii. Create a for loop that uses print to create the output shown below."
   ]
  },
  {
   "cell_type": "code",
   "execution_count": null,
   "id": "39ca5b3d",
   "metadata": {},
   "outputs": [],
   "source": [
    "for number in range (1,10):\n",
    "    print(str(number)*number)"
   ]
  },
  {
   "cell_type": "markdown",
   "id": "1d6f1260",
   "metadata": {},
   "source": [
    "## c. break and continue\n",
    "i. Write a program that prompts the user for a positive integer. Next write a loop that prints out the numbers from the number the user entered down to 1."
   ]
  },
  {
   "cell_type": "code",
   "execution_count": null,
   "id": "a09154e2",
   "metadata": {},
   "outputs": [],
   "source": [
    "i = int(input('Pick a positive integer: '))\n",
    "\n",
    "while i > 0:\n",
    "    print(i)\n",
    "    i -= 1"
   ]
  },
  {
   "cell_type": "markdown",
   "id": "edc84092",
   "metadata": {},
   "source": [
    "ii. The input function can be used to prompt for input and use that input in your python code. Prompt the user to enter a positive number and write a loop that counts from 0 to that number. (Hints: note that the input function returns a string, so you'll need to convert this to a numeric type.)"
   ]
  },
  {
   "cell_type": "code",
   "execution_count": null,
   "id": "be8d9dfb",
   "metadata": {},
   "outputs": [],
   "source": [
    "i = int(input('Pick a positive integer: '))\n",
    "x = 0\n",
    "\n",
    "while x <= i:\n",
    "    print(x)\n",
    "    x += 1"
   ]
  },
  {
   "cell_type": "markdown",
   "id": "16c1175d",
   "metadata": {},
   "source": [
    "iii. Prompt the user for an odd number between 1 and 50. Use a loop and a break statement to continue prompting the user if they enter invalid input. (Hint: use the isdigit method on strings to determine this). Use a loop and the continue statement to output all the odd numbers between 1 and 50, except for the number the user entered."
   ]
  },
  {
   "cell_type": "code",
   "execution_count": 50,
   "id": "101348df",
   "metadata": {},
   "outputs": [
    {
     "name": "stdout",
     "output_type": "stream",
     "text": [
      "Pick an odd number between 1 and 50: five\n"
     ]
    },
    {
     "data": {
      "text/plain": [
       "False"
      ]
     },
     "execution_count": 50,
     "metadata": {},
     "output_type": "execute_result"
    }
   ],
   "source": [
    "user_input = input('Pick an odd number between 1 and 50: ')\n",
    "user_input.isdigit()"
   ]
  },
  {
   "cell_type": "code",
   "execution_count": null,
   "id": "c33574e0",
   "metadata": {},
   "outputs": [
    {
     "name": "stdout",
     "output_type": "stream",
     "text": [
      "Pick an odd number between 1 and 50: 6\n"
     ]
    }
   ],
   "source": [
    "# need help on this one\n",
    "\n",
    "odd_number = 1\n",
    "while True:\n",
    "    user_input = input('Pick an odd number between 1 and 50: ')\n",
    "    if user_input.isdigit() == True:\n",
    "        user_input = int(user_input)\n",
    "    else:\n",
    "        break    \n",
    "\n",
    "while odd_number <= 50:\n",
    "        if odd_number == user_input:\n",
    "            print('Skip!')\n",
    "            odd_number += 2\n",
    "        else:\n",
    "            print(odd_number)\n",
    "            odd_number += 2\n",
    "    "
   ]
  },
  {
   "cell_type": "markdown",
   "id": "03154b1b",
   "metadata": {},
   "source": [
    "# 3. Fizzbuzz\n",
    "\n",
    "One of the most common interview questions for entry-level programmers is the FizzBuzz test. Developed by Imran Ghory, the test is designed to test basic looping and conditional logic skills.\n",
    "\n",
    "-- Write a program that prints the numbers from 1 to 100. \n",
    "\n",
    "-- For multiples of three print \"Fizz\" instead of the number\n",
    "\n",
    "-- For the multiples of five print \"Buzz\".\n",
    "\n",
    "-- For numbers which are multiples of both three and five print \"FizzBuzz\"."
   ]
  },
  {
   "cell_type": "code",
   "execution_count": null,
   "id": "dc73dc82",
   "metadata": {},
   "outputs": [],
   "source": [
    "i = 1\n",
    "\n",
    "while i <= 100:\n",
    "    if i % 3 == 0 and i % 5 == 0:\n",
    "        print(f'{i} - FizzBuzz')\n",
    "        i += 1\n",
    "    elif i % 3 == 0:\n",
    "        print(f'{i} - Fizz')\n",
    "        i += 1\n",
    "    elif i % 5 == 0:\n",
    "        print(f'{i} - Buzz')\n",
    "        i += 1\n",
    "    else:\n",
    "        print(i)\n",
    "        i += 1"
   ]
  },
  {
   "cell_type": "markdown",
   "id": "c3b1cbd4",
   "metadata": {},
   "source": [
    "# 4. Display a table of powers.\n",
    "\n",
    "Prompt the user to enter an integer\n",
    "\n",
    "Display a table of squares and cubes from 1 to the value entered\n",
    "\n",
    "Ask if the user wants to continue\n",
    "\n",
    "Assume that the user will enter valid data\n",
    "\n",
    "Only continue if the user agrees to"
   ]
  },
  {
   "cell_type": "code",
   "execution_count": 42,
   "id": "7827bab6",
   "metadata": {},
   "outputs": [
    {
     "name": "stdout",
     "output_type": "stream",
     "text": [
      "What number would you like to go up to? 6\n",
      "Here is your table!\n",
      "number\t| squared | cubed\n",
      "------\t| ------- | -----\n",
      "1\t| 1\t  | 1\n",
      "2\t| 4\t  | 8\n",
      "3\t| 9\t  | 27\n",
      "4\t| 16\t  | 64\n",
      "5\t| 25\t  | 125\n",
      "6\t| 36\t  | 216\n",
      "Do you want to continue? (yes/no): no\n"
     ]
    }
   ],
   "source": [
    "while True:\n",
    "    user_pick = int(input('What number would you like to go up to? '))\n",
    "\n",
    "    print(\"Here is your table!\")\n",
    "\n",
    "    print(\"number\\t| squared | cubed\")\n",
    "    print(\"------\\t| ------- | -----\")\n",
    "\n",
    "    for i in range(1, user_pick + 1):\n",
    "        squared = i**2\n",
    "        cubed = i**3\n",
    "        print(f'{i}\\t| {squared}\\t  | {cubed}')\n",
    "        \n",
    "    continue_answer = input('Do you want to continue? (yes/no): ')\n",
    "    \n",
    "    if continue_answer != 'yes':\n",
    "        break"
   ]
  },
  {
   "cell_type": "markdown",
   "id": "7b6f7389",
   "metadata": {},
   "source": [
    "# 5. Convert given number grades into letter grades.\n",
    "\n",
    "Prompt the user for a numerical grade from 0 to 100\n",
    "\n",
    "Display the corresponding letter grade\n",
    "\n",
    "Prompt the user to continue\n",
    "\n",
    "Assume that the user will enter valid integers for the grades\n",
    "\n",
    "The application should only continue if the user agrees to\n",
    "\n",
    "Grade Ranges:\n",
    "\n",
    "-- A : 100 - 88\n",
    "\n",
    "-- B : 87 - 80\n",
    "\n",
    "-- C : 79 - 67\n",
    "\n",
    "-- D : 66 - 60\n",
    "\n",
    "-- F : 59 - 0"
   ]
  },
  {
   "cell_type": "code",
   "execution_count": 37,
   "id": "5224cca5",
   "metadata": {},
   "outputs": [
    {
     "name": "stdout",
     "output_type": "stream",
     "text": [
      "Pick a numerical grade from 0 to 100: 50\n",
      "Grade: F\n",
      "Do you want to continue? (yes/no): yes\n",
      "Pick a numerical grade from 0 to 100: 60\n",
      "Grade: D\n",
      "Do you want to continue? (yes/no): yes\n",
      "Pick a numerical grade from 0 to 100: 88\n",
      "Grade: A\n",
      "Do you want to continue? (yes/no): yes\n",
      "Pick a numerical grade from 0 to 100: 80\n",
      "Grade: B\n",
      "Do you want to continue? (yes/no): yes\n",
      "Pick a numerical grade from 0 to 100: 67\n",
      "Grade: C\n",
      "Do you want to continue? (yes/no): yes\n",
      "Pick a numerical grade from 0 to 100: 60\n",
      "Grade: D\n",
      "Do you want to continue? (yes/no): yes\n",
      "Pick a numerical grade from 0 to 100: 59\n",
      "Grade: F\n",
      "Do you want to continue? (yes/no): no\n"
     ]
    }
   ],
   "source": [
    "while True:\n",
    "    num_grade = int(input('Pick a numerical grade from 0 to 100: '))\n",
    "\n",
    "    if 100 >= num_grade >= 88:\n",
    "        print('Grade: A')\n",
    "    elif num_grade >= 80:\n",
    "        print('Grade: B')\n",
    "    elif num_grade >= 67:\n",
    "        print('Grade: C')\n",
    "    elif num_grade >= 60:\n",
    "        print('Grade: D')\n",
    "    else:\n",
    "        print('Grade: F')\n",
    "\n",
    "    continue_answer = input('Do you want to continue? (yes/no): ')\n",
    "\n",
    "    if continue_answer != 'yes':\n",
    "        break"
   ]
  },
  {
   "cell_type": "markdown",
   "id": "10f38648",
   "metadata": {},
   "source": [
    "# 6. Create a list of dictionaries where each dictionary represents a book that you have read. Each dictionary in the list should have the keys title, author, and genre. Loop through the list and print out information about each book.\n",
    "\n",
    "Prompt the user to enter a genre, then loop through your books list and print out the titles of all the books in that genre."
   ]
  },
  {
   "cell_type": "code",
   "execution_count": null,
   "id": "e543e4bf",
   "metadata": {},
   "outputs": [],
   "source": []
  },
  {
   "cell_type": "code",
   "execution_count": null,
   "id": "7f592adc",
   "metadata": {},
   "outputs": [],
   "source": []
  },
  {
   "cell_type": "code",
   "execution_count": null,
   "id": "53c4ee15",
   "metadata": {},
   "outputs": [],
   "source": []
  },
  {
   "cell_type": "code",
   "execution_count": null,
   "id": "9c255b49",
   "metadata": {},
   "outputs": [],
   "source": []
  }
 ],
 "metadata": {
  "kernelspec": {
   "display_name": "Python 3 (ipykernel)",
   "language": "python",
   "name": "python3"
  },
  "language_info": {
   "codemirror_mode": {
    "name": "ipython",
    "version": 3
   },
   "file_extension": ".py",
   "mimetype": "text/x-python",
   "name": "python",
   "nbconvert_exporter": "python",
   "pygments_lexer": "ipython3",
   "version": "3.11.5"
  }
 },
 "nbformat": 4,
 "nbformat_minor": 5
}
