{
 "cells": [
  {
   "cell_type": "markdown",
   "id": "1311c319",
   "metadata": {},
   "source": [
    "# 1. Conditional Basics"
   ]
  },
  {
   "cell_type": "markdown",
   "id": "ab0c0a1a",
   "metadata": {},
   "source": [
    "a. Prompt the user for a day of the week, print out whether the day is Monday or not"
   ]
  },
  {
   "cell_type": "code",
   "execution_count": null,
   "id": "66ea8593",
   "metadata": {},
   "outputs": [],
   "source": [
    "day = input('Pick a day of the week: ')\n",
    "day = day.strip().lower()\n",
    "\n",
    "if day == 'monday':\n",
    "    print('You picked Monday!')\n",
    "else:\n",
    "    print('You did not pick Monday!')"
   ]
  },
  {
   "cell_type": "markdown",
   "id": "78b3baf7",
   "metadata": {},
   "source": [
    "b. Prompt the user for a day of the week, print out whether the day is a weekday or a weekend"
   ]
  },
  {
   "cell_type": "code",
   "execution_count": null,
   "id": "c8401871",
   "metadata": {},
   "outputs": [],
   "source": [
    "day = input('Pick a day of the week: ')\n",
    "day = day.strip().lower()\n",
    "\n",
    "if day == 'saturday' or day == 'sunday':\n",
    "    print('Cheers to the weekend!')\n",
    "else:\n",
    "    print('Bummer! Not the weekend')"
   ]
  },
  {
   "cell_type": "markdown",
   "id": "15c4d39d",
   "metadata": {},
   "source": [
    "c. Calculate a weekly paycheck, accounting for overtime pay. Create variables and make up values for:\n",
    "\n",
    "-- The number of hours worked in one week\n",
    "\n",
    "-- The hourly rate\n",
    "\n",
    "For calculating pay:\n",
    "\n",
    "-- For working 40 hours or less, each hour is paid at the hourly rate\n",
    "\n",
    "-- For working more than 40 hours\n",
    "\n",
    "------  the first 40 hours are paid at the hourly rate\n",
    "\n",
    "------  each hour after 40 is paid at time and a half (hourly rate * 1.5)"
   ]
  },
  {
   "cell_type": "code",
   "execution_count": null,
   "id": "8696d4e0",
   "metadata": {},
   "outputs": [],
   "source": [
    "hour = float(input('How many hours did you work this week? '))\n",
    "hourly_rate = float(input('How much do you make an hour? '))\n",
    "\n",
    "if hour <= 40:\n",
    "    paycheck = hour * hourly_rate\n",
    "    print(f'Your paycheck is ${paycheck}.')\n",
    "else:\n",
    "    paycheck = (40 * hourly_rate) + ((hour - 40) * hourly_rate * 1.5)\n",
    "    print(f'Your paycheck is ${paycheck} with overtime.')"
   ]
  },
  {
   "cell_type": "markdown",
   "id": "15d5335d",
   "metadata": {},
   "source": [
    "# 2. Loop Basics\n",
    "## a. While\n",
    "i. Create an integer variable i with a value of 5. Create a while loop that runs so long as i is less than or equal to 15. Each loop iteration, output the current value of i, then increment i by one."
   ]
  },
  {
   "cell_type": "code",
   "execution_count": null,
   "id": "cc67b3fa",
   "metadata": {},
   "outputs": [],
   "source": [
    "i = 5\n",
    "\n",
    "while i <= 15:\n",
    "    print(i)\n",
    "    i += 1"
   ]
  },
  {
   "cell_type": "markdown",
   "id": "00dcfc7f",
   "metadata": {},
   "source": [
    "i. Create a while loop that will count by 2's starting with 0 and ending at 100. Follow each number with a new line."
   ]
  },
  {
   "cell_type": "code",
   "execution_count": null,
   "id": "c8f58928",
   "metadata": {},
   "outputs": [],
   "source": [
    "i = 0\n",
    "\n",
    "while i <= 100:\n",
    "    print(i)\n",
    "    i += 2"
   ]
  },
  {
   "cell_type": "markdown",
   "id": "e7e89538",
   "metadata": {},
   "source": [
    "ii. Create a while loop that starts at 2, and displays the number squared on each line while the number is less than 1,000,000."
   ]
  },
  {
   "cell_type": "code",
   "execution_count": null,
   "id": "de9abe92",
   "metadata": {},
   "outputs": [],
   "source": [
    "i = 2\n",
    "\n",
    "while i < 1000000:\n",
    "    print(i)\n",
    "    i = i**2"
   ]
  },
  {
   "cell_type": "markdown",
   "id": "d49b59f1",
   "metadata": {},
   "source": [
    "iii. Write a while loop that uses print to create the output shown below."
   ]
  },
  {
   "cell_type": "code",
   "execution_count": null,
   "id": "a105fad8",
   "metadata": {},
   "outputs": [],
   "source": [
    "i = 100\n",
    "\n",
    "while i > 0:\n",
    "    print(i)\n",
    "    i -= 5"
   ]
  },
  {
   "cell_type": "markdown",
   "id": "83fb4efe",
   "metadata": {},
   "source": [
    "## b. For Loops\n",
    "\n",
    "i. Write some code using a for loop that prompts the user for a number, then shows a multiplication table up through 10 for that number."
   ]
  },
  {
   "cell_type": "code",
   "execution_count": null,
   "id": "8878afdc",
   "metadata": {},
   "outputs": [],
   "source": [
    "i = int(input('Pick a number: '))\n",
    "times = [1,2,3,4,5,6,7,8,9,10]\n",
    "\n",
    "for number in times:\n",
    "    answer = i * number\n",
    "    print(f'{i} x {number} = {answer}')"
   ]
  },
  {
   "cell_type": "markdown",
   "id": "75c70eac",
   "metadata": {},
   "source": [
    "ii. Create a for loop that uses print to create the output shown below."
   ]
  },
  {
   "cell_type": "code",
   "execution_count": null,
   "id": "39ca5b3d",
   "metadata": {},
   "outputs": [],
   "source": [
    "for number in range (1,10):\n",
    "    print(str(number)*number)"
   ]
  },
  {
   "cell_type": "markdown",
   "id": "1d6f1260",
   "metadata": {},
   "source": [
    "## c. break and continue\n",
    "i. Write a program that prompts the user for a positive integer. Next write a loop that prints out the numbers from the number the user entered down to 1."
   ]
  },
  {
   "cell_type": "code",
   "execution_count": null,
   "id": "a09154e2",
   "metadata": {},
   "outputs": [],
   "source": [
    "i = int(input('Pick a positive integer: '))\n",
    "\n",
    "while i > 0:\n",
    "    print(i)\n",
    "    i -= 1"
   ]
  },
  {
   "cell_type": "markdown",
   "id": "edc84092",
   "metadata": {},
   "source": [
    "ii. The input function can be used to prompt for input and use that input in your python code. Prompt the user to enter a positive number and write a loop that counts from 0 to that number. (Hints: note that the input function returns a string, so you'll need to convert this to a numeric type.)"
   ]
  },
  {
   "cell_type": "code",
   "execution_count": null,
   "id": "be8d9dfb",
   "metadata": {},
   "outputs": [],
   "source": [
    "i = int(input('Pick a positive integer: '))\n",
    "x = 0\n",
    "\n",
    "while x <= i:\n",
    "    print(x)\n",
    "    x += 1"
   ]
  },
  {
   "cell_type": "markdown",
   "id": "16c1175d",
   "metadata": {},
   "source": [
    "iii. Prompt the user for an odd number between 1 and 50. Use a loop and a break statement to continue prompting the user if they enter invalid input. (Hint: use the isdigit method on strings to determine this). Use a loop and the continue statement to output all the odd numbers between 1 and 50, except for the number the user entered."
   ]
  },
  {
   "cell_type": "code",
   "execution_count": 6,
   "id": "c33574e0",
   "metadata": {},
   "outputs": [
    {
     "name": "stdout",
     "output_type": "stream",
     "text": [
      "Pick an odd number between 1 and 50: 27\n",
      "Number to skip is: 27\n",
      "Here is an odd number: 1\n",
      "Here is an odd number: 3\n",
      "Here is an odd number: 5\n",
      "Here is an odd number: 7\n",
      "Here is an odd number: 9\n",
      "Here is an odd number: 11\n",
      "Here is an odd number: 13\n",
      "Here is an odd number: 15\n",
      "Here is an odd number: 17\n",
      "Here is an odd number: 19\n",
      "Here is an odd number: 21\n",
      "Here is an odd number: 23\n",
      "Here is an odd number: 25\n",
      "Yikes! Skipping number: 27\n",
      "Here is an odd number: 29\n",
      "Here is an odd number: 31\n",
      "Here is an odd number: 33\n",
      "Here is an odd number: 35\n",
      "Here is an odd number: 37\n",
      "Here is an odd number: 39\n",
      "Here is an odd number: 41\n",
      "Here is an odd number: 43\n",
      "Here is an odd number: 45\n",
      "Here is an odd number: 47\n",
      "Here is an odd number: 49\n"
     ]
    },
    {
     "ename": "KeyboardInterrupt",
     "evalue": "Interrupted by user",
     "output_type": "error",
     "traceback": [
      "\u001b[0;31m---------------------------------------------------------------------------\u001b[0m",
      "\u001b[0;31mKeyboardInterrupt\u001b[0m                         Traceback (most recent call last)",
      "Cell \u001b[0;32mIn[6], line 5\u001b[0m\n\u001b[1;32m      3\u001b[0m odd_number \u001b[38;5;241m=\u001b[39m \u001b[38;5;241m1\u001b[39m\n\u001b[1;32m      4\u001b[0m \u001b[38;5;28;01mwhile\u001b[39;00m \u001b[38;5;28;01mTrue\u001b[39;00m:\n\u001b[0;32m----> 5\u001b[0m     user_input \u001b[38;5;241m=\u001b[39m \u001b[38;5;28minput\u001b[39m(\u001b[38;5;124m'\u001b[39m\u001b[38;5;124mPick an odd number between 1 and 50: \u001b[39m\u001b[38;5;124m'\u001b[39m)\n\u001b[1;32m      6\u001b[0m     \u001b[38;5;28;01mif\u001b[39;00m user_input\u001b[38;5;241m.\u001b[39misdigit() \u001b[38;5;241m==\u001b[39m \u001b[38;5;28;01mTrue\u001b[39;00m:\n\u001b[1;32m      7\u001b[0m         user_input \u001b[38;5;241m=\u001b[39m \u001b[38;5;28mint\u001b[39m(user_input)\n",
      "File \u001b[0;32m/opt/homebrew/anaconda3/lib/python3.11/site-packages/ipykernel/kernelbase.py:1202\u001b[0m, in \u001b[0;36mKernel.raw_input\u001b[0;34m(self, prompt)\u001b[0m\n\u001b[1;32m   1200\u001b[0m     msg \u001b[38;5;241m=\u001b[39m \u001b[38;5;124m\"\u001b[39m\u001b[38;5;124mraw_input was called, but this frontend does not support input requests.\u001b[39m\u001b[38;5;124m\"\u001b[39m\n\u001b[1;32m   1201\u001b[0m     \u001b[38;5;28;01mraise\u001b[39;00m StdinNotImplementedError(msg)\n\u001b[0;32m-> 1202\u001b[0m \u001b[38;5;28;01mreturn\u001b[39;00m \u001b[38;5;28mself\u001b[39m\u001b[38;5;241m.\u001b[39m_input_request(\n\u001b[1;32m   1203\u001b[0m     \u001b[38;5;28mstr\u001b[39m(prompt),\n\u001b[1;32m   1204\u001b[0m     \u001b[38;5;28mself\u001b[39m\u001b[38;5;241m.\u001b[39m_parent_ident[\u001b[38;5;124m\"\u001b[39m\u001b[38;5;124mshell\u001b[39m\u001b[38;5;124m\"\u001b[39m],\n\u001b[1;32m   1205\u001b[0m     \u001b[38;5;28mself\u001b[39m\u001b[38;5;241m.\u001b[39mget_parent(\u001b[38;5;124m\"\u001b[39m\u001b[38;5;124mshell\u001b[39m\u001b[38;5;124m\"\u001b[39m),\n\u001b[1;32m   1206\u001b[0m     password\u001b[38;5;241m=\u001b[39m\u001b[38;5;28;01mFalse\u001b[39;00m,\n\u001b[1;32m   1207\u001b[0m )\n",
      "File \u001b[0;32m/opt/homebrew/anaconda3/lib/python3.11/site-packages/ipykernel/kernelbase.py:1245\u001b[0m, in \u001b[0;36mKernel._input_request\u001b[0;34m(self, prompt, ident, parent, password)\u001b[0m\n\u001b[1;32m   1242\u001b[0m \u001b[38;5;28;01mexcept\u001b[39;00m \u001b[38;5;167;01mKeyboardInterrupt\u001b[39;00m:\n\u001b[1;32m   1243\u001b[0m     \u001b[38;5;66;03m# re-raise KeyboardInterrupt, to truncate traceback\u001b[39;00m\n\u001b[1;32m   1244\u001b[0m     msg \u001b[38;5;241m=\u001b[39m \u001b[38;5;124m\"\u001b[39m\u001b[38;5;124mInterrupted by user\u001b[39m\u001b[38;5;124m\"\u001b[39m\n\u001b[0;32m-> 1245\u001b[0m     \u001b[38;5;28;01mraise\u001b[39;00m \u001b[38;5;167;01mKeyboardInterrupt\u001b[39;00m(msg) \u001b[38;5;28;01mfrom\u001b[39;00m \u001b[38;5;28;01mNone\u001b[39;00m\n\u001b[1;32m   1246\u001b[0m \u001b[38;5;28;01mexcept\u001b[39;00m \u001b[38;5;167;01mException\u001b[39;00m:\n\u001b[1;32m   1247\u001b[0m     \u001b[38;5;28mself\u001b[39m\u001b[38;5;241m.\u001b[39mlog\u001b[38;5;241m.\u001b[39mwarning(\u001b[38;5;124m\"\u001b[39m\u001b[38;5;124mInvalid Message:\u001b[39m\u001b[38;5;124m\"\u001b[39m, exc_info\u001b[38;5;241m=\u001b[39m\u001b[38;5;28;01mTrue\u001b[39;00m)\n",
      "\u001b[0;31mKeyboardInterrupt\u001b[0m: Interrupted by user"
     ]
    }
   ],
   "source": [
    "odd_number = 1\n",
    "while True:\n",
    "    user_input = input('Pick an odd number between 1 and 50: ')\n",
    "    if user_input.isdigit() == True:\n",
    "        user_input = int(user_input)\n",
    "        print(f'Number to skip is: {user_input}')\n",
    "        while odd_number <=50:\n",
    "            if odd_number == user_input:\n",
    "                print(f'Yikes! Skipping number: {odd_number}')\n",
    "                odd_number += 2\n",
    "            else:\n",
    "                print(f'Here is an odd number: {odd_number}')\n",
    "                odd_number += 2\n",
    "    else:\n",
    "        break    "
   ]
  },
  {
   "cell_type": "markdown",
   "id": "03154b1b",
   "metadata": {},
   "source": [
    "# 3. Fizzbuzz\n",
    "\n",
    "One of the most common interview questions for entry-level programmers is the FizzBuzz test. Developed by Imran Ghory, the test is designed to test basic looping and conditional logic skills.\n",
    "\n",
    "-- Write a program that prints the numbers from 1 to 100. \n",
    "\n",
    "-- For multiples of three print \"Fizz\" instead of the number\n",
    "\n",
    "-- For the multiples of five print \"Buzz\".\n",
    "\n",
    "-- For numbers which are multiples of both three and five print \"FizzBuzz\"."
   ]
  },
  {
   "cell_type": "code",
   "execution_count": null,
   "id": "dc73dc82",
   "metadata": {},
   "outputs": [],
   "source": [
    "i = 1\n",
    "\n",
    "while i <= 100:\n",
    "    if i % 3 == 0 and i % 5 == 0:\n",
    "        print(f'{i} - FizzBuzz')\n",
    "        i += 1\n",
    "    elif i % 3 == 0:\n",
    "        print(f'{i} - Fizz')\n",
    "        i += 1\n",
    "    elif i % 5 == 0:\n",
    "        print(f'{i} - Buzz')\n",
    "        i += 1\n",
    "    else:\n",
    "        print(i)\n",
    "        i += 1"
   ]
  },
  {
   "cell_type": "markdown",
   "id": "c3b1cbd4",
   "metadata": {},
   "source": [
    "# 4. Display a table of powers.\n",
    "\n",
    "Prompt the user to enter an integer\n",
    "\n",
    "Display a table of squares and cubes from 1 to the value entered\n",
    "\n",
    "Ask if the user wants to continue\n",
    "\n",
    "Assume that the user will enter valid data\n",
    "\n",
    "Only continue if the user agrees to"
   ]
  },
  {
   "cell_type": "code",
   "execution_count": 7,
   "id": "7827bab6",
   "metadata": {},
   "outputs": [
    {
     "name": "stdout",
     "output_type": "stream",
     "text": [
      "What number would you like to go up to? 4\n",
      "Here is your table!\n",
      "number\t| squared | cubed\n",
      "------\t| ------- | -----\n",
      "1\t| 1\t  | 1\n",
      "2\t| 4\t  | 8\n",
      "3\t| 9\t  | 27\n",
      "4\t| 16\t  | 64\n"
     ]
    },
    {
     "ename": "KeyboardInterrupt",
     "evalue": "Interrupted by user",
     "output_type": "error",
     "traceback": [
      "\u001b[0;31m---------------------------------------------------------------------------\u001b[0m",
      "\u001b[0;31mKeyboardInterrupt\u001b[0m                         Traceback (most recent call last)",
      "Cell \u001b[0;32mIn[7], line 14\u001b[0m\n\u001b[1;32m     11\u001b[0m     cubed \u001b[38;5;241m=\u001b[39m i\u001b[38;5;241m*\u001b[39m\u001b[38;5;241m*\u001b[39m\u001b[38;5;241m3\u001b[39m\n\u001b[1;32m     12\u001b[0m     \u001b[38;5;28mprint\u001b[39m(\u001b[38;5;124mf\u001b[39m\u001b[38;5;124m'\u001b[39m\u001b[38;5;132;01m{\u001b[39;00mi\u001b[38;5;132;01m}\u001b[39;00m\u001b[38;5;130;01m\\t\u001b[39;00m\u001b[38;5;124m| \u001b[39m\u001b[38;5;132;01m{\u001b[39;00msquared\u001b[38;5;132;01m}\u001b[39;00m\u001b[38;5;130;01m\\t\u001b[39;00m\u001b[38;5;124m  | \u001b[39m\u001b[38;5;132;01m{\u001b[39;00mcubed\u001b[38;5;132;01m}\u001b[39;00m\u001b[38;5;124m'\u001b[39m)\n\u001b[0;32m---> 14\u001b[0m continue_answer \u001b[38;5;241m=\u001b[39m \u001b[38;5;28minput\u001b[39m(\u001b[38;5;124m'\u001b[39m\u001b[38;5;124mDo you want to continue? (yes/no): \u001b[39m\u001b[38;5;124m'\u001b[39m)\n\u001b[1;32m     16\u001b[0m \u001b[38;5;28;01mif\u001b[39;00m continue_answer \u001b[38;5;241m!=\u001b[39m \u001b[38;5;124m'\u001b[39m\u001b[38;5;124myes\u001b[39m\u001b[38;5;124m'\u001b[39m:\n\u001b[1;32m     17\u001b[0m     \u001b[38;5;28;01mbreak\u001b[39;00m\n",
      "File \u001b[0;32m/opt/homebrew/anaconda3/lib/python3.11/site-packages/ipykernel/kernelbase.py:1202\u001b[0m, in \u001b[0;36mKernel.raw_input\u001b[0;34m(self, prompt)\u001b[0m\n\u001b[1;32m   1200\u001b[0m     msg \u001b[38;5;241m=\u001b[39m \u001b[38;5;124m\"\u001b[39m\u001b[38;5;124mraw_input was called, but this frontend does not support input requests.\u001b[39m\u001b[38;5;124m\"\u001b[39m\n\u001b[1;32m   1201\u001b[0m     \u001b[38;5;28;01mraise\u001b[39;00m StdinNotImplementedError(msg)\n\u001b[0;32m-> 1202\u001b[0m \u001b[38;5;28;01mreturn\u001b[39;00m \u001b[38;5;28mself\u001b[39m\u001b[38;5;241m.\u001b[39m_input_request(\n\u001b[1;32m   1203\u001b[0m     \u001b[38;5;28mstr\u001b[39m(prompt),\n\u001b[1;32m   1204\u001b[0m     \u001b[38;5;28mself\u001b[39m\u001b[38;5;241m.\u001b[39m_parent_ident[\u001b[38;5;124m\"\u001b[39m\u001b[38;5;124mshell\u001b[39m\u001b[38;5;124m\"\u001b[39m],\n\u001b[1;32m   1205\u001b[0m     \u001b[38;5;28mself\u001b[39m\u001b[38;5;241m.\u001b[39mget_parent(\u001b[38;5;124m\"\u001b[39m\u001b[38;5;124mshell\u001b[39m\u001b[38;5;124m\"\u001b[39m),\n\u001b[1;32m   1206\u001b[0m     password\u001b[38;5;241m=\u001b[39m\u001b[38;5;28;01mFalse\u001b[39;00m,\n\u001b[1;32m   1207\u001b[0m )\n",
      "File \u001b[0;32m/opt/homebrew/anaconda3/lib/python3.11/site-packages/ipykernel/kernelbase.py:1245\u001b[0m, in \u001b[0;36mKernel._input_request\u001b[0;34m(self, prompt, ident, parent, password)\u001b[0m\n\u001b[1;32m   1242\u001b[0m \u001b[38;5;28;01mexcept\u001b[39;00m \u001b[38;5;167;01mKeyboardInterrupt\u001b[39;00m:\n\u001b[1;32m   1243\u001b[0m     \u001b[38;5;66;03m# re-raise KeyboardInterrupt, to truncate traceback\u001b[39;00m\n\u001b[1;32m   1244\u001b[0m     msg \u001b[38;5;241m=\u001b[39m \u001b[38;5;124m\"\u001b[39m\u001b[38;5;124mInterrupted by user\u001b[39m\u001b[38;5;124m\"\u001b[39m\n\u001b[0;32m-> 1245\u001b[0m     \u001b[38;5;28;01mraise\u001b[39;00m \u001b[38;5;167;01mKeyboardInterrupt\u001b[39;00m(msg) \u001b[38;5;28;01mfrom\u001b[39;00m \u001b[38;5;28;01mNone\u001b[39;00m\n\u001b[1;32m   1246\u001b[0m \u001b[38;5;28;01mexcept\u001b[39;00m \u001b[38;5;167;01mException\u001b[39;00m:\n\u001b[1;32m   1247\u001b[0m     \u001b[38;5;28mself\u001b[39m\u001b[38;5;241m.\u001b[39mlog\u001b[38;5;241m.\u001b[39mwarning(\u001b[38;5;124m\"\u001b[39m\u001b[38;5;124mInvalid Message:\u001b[39m\u001b[38;5;124m\"\u001b[39m, exc_info\u001b[38;5;241m=\u001b[39m\u001b[38;5;28;01mTrue\u001b[39;00m)\n",
      "\u001b[0;31mKeyboardInterrupt\u001b[0m: Interrupted by user"
     ]
    }
   ],
   "source": [
    "while True:\n",
    "    user_pick = int(input('What number would you like to go up to? '))\n",
    "\n",
    "    print(\"Here is your table!\")\n",
    "\n",
    "    print(\"number\\t| squared | cubed\")\n",
    "    print(\"------\\t| ------- | -----\")\n",
    "\n",
    "    for i in range(1, user_pick + 1):\n",
    "        squared = i**2\n",
    "        cubed = i**3\n",
    "        print(f'{i}\\t| {squared}\\t  | {cubed}')\n",
    "        \n",
    "    continue_answer = input('Do you want to continue? (yes/no): ')\n",
    "    \n",
    "    if continue_answer != 'yes':\n",
    "        break"
   ]
  },
  {
   "cell_type": "markdown",
   "id": "7b6f7389",
   "metadata": {},
   "source": [
    "# 5. Convert given number grades into letter grades.\n",
    "\n",
    "Prompt the user for a numerical grade from 0 to 100\n",
    "\n",
    "Display the corresponding letter grade\n",
    "\n",
    "Prompt the user to continue\n",
    "\n",
    "Assume that the user will enter valid integers for the grades\n",
    "\n",
    "The application should only continue if the user agrees to\n",
    "\n",
    "Grade Ranges:\n",
    "\n",
    "-- A : 100 - 88\n",
    "\n",
    "-- B : 87 - 80\n",
    "\n",
    "-- C : 79 - 67\n",
    "\n",
    "-- D : 66 - 60\n",
    "\n",
    "-- F : 59 - 0"
   ]
  },
  {
   "cell_type": "code",
   "execution_count": null,
   "id": "5224cca5",
   "metadata": {},
   "outputs": [],
   "source": [
    "while True:\n",
    "    num_grade = int(input('Pick a numerical grade from 0 to 100: '))\n",
    "\n",
    "    if 100 >= num_grade >= 88:\n",
    "        print('Grade: A')\n",
    "    elif num_grade >= 80:\n",
    "        print('Grade: B')\n",
    "    elif num_grade >= 67:\n",
    "        print('Grade: C')\n",
    "    elif num_grade >= 60:\n",
    "        print('Grade: D')\n",
    "    else:\n",
    "        print('Grade: F')\n",
    "\n",
    "    continue_answer = input('Do you want to continue? (yes/no): ')\n",
    "\n",
    "    if continue_answer != 'yes':\n",
    "        break"
   ]
  },
  {
   "cell_type": "markdown",
   "id": "10f38648",
   "metadata": {},
   "source": [
    "# 6. Create a list of dictionaries where each dictionary represents a book that you have read. Each dictionary in the list should have the keys title, author, and genre. Loop through the list and print out information about each book."
   ]
  },
  {
   "cell_type": "code",
   "execution_count": 35,
   "id": "e543e4bf",
   "metadata": {},
   "outputs": [
    {
     "name": "stdout",
     "output_type": "stream",
     "text": [
      "Title: Fried Green Tomatoes at the Whistle Stop Cafe, \n",
      "Author: Flagg, Fannie, \n",
      "Genre: Fiction\n",
      "\n",
      "Title: Horrorstor, \n",
      "Author: Hendrix, Grady, \n",
      "Genre: Horror\n",
      "\n",
      "Title: Home Before Dark, \n",
      "Author: Sager, Riley, \n",
      "Genre: Horror\n",
      "\n",
      "Title: The Mysterious Affair at Styles, \n",
      "Author: Christie, Agatha, \n",
      "Genre: Mystery\n",
      "\n",
      "Title: The House Across the Lake, \n",
      "Author: Sager, Riley, \n",
      "Genre: Thriller\n",
      "\n",
      "Title: 10% Happier, \n",
      "Author: Harris, Dan, \n",
      "Genre: Nonfiction\n",
      "\n"
     ]
    }
   ],
   "source": [
    "books = [{'title': 'Fried Green Tomatoes at the Whistle Stop Cafe', 'author': 'Flagg, Fannie', 'genre': 'Fiction'},\n",
    "         {'title': 'Horrorstor', 'author': 'Hendrix, Grady', 'genre': 'Horror'},\n",
    "         {'title': 'Home Before Dark', 'author': 'Sager, Riley', 'genre': 'Horror'},\n",
    "         {'title': 'The Mysterious Affair at Styles', 'author': 'Christie, Agatha', 'genre': 'Mystery'},\n",
    "         {'title': 'The House Across the Lake', 'author': 'Sager, Riley', 'genre': 'Thriller'},\n",
    "         {'title': '10% Happier', 'author': 'Harris, Dan', 'genre': 'Nonfiction'}]\n",
    "\n",
    "for book in books:\n",
    "    print(f\"Title: {book['title']}, \\nAuthor: {book['author']}, \\nGenre: {book['genre']}\\n\")"
   ]
  },
  {
   "cell_type": "markdown",
   "id": "d0d234af",
   "metadata": {},
   "source": [
    "Prompt the user to enter a genre, then loop through your books list and print out the titles of all the books in that genre."
   ]
  },
  {
   "cell_type": "code",
   "execution_count": 36,
   "id": "7f592adc",
   "metadata": {},
   "outputs": [
    {
     "name": "stdout",
     "output_type": "stream",
     "text": [
      "Select a genre: Comedy\n"
     ]
    }
   ],
   "source": [
    "books = [{'title': 'Fried Green Tomatoes at the Whistle Stop Cafe', 'author': 'Flagg, Fannie', 'genre': 'Fiction'},\n",
    "         {'title': 'Horrorstor', 'author': 'Hendrix, Grady', 'genre': 'Horror'},\n",
    "         {'title': 'Home Before Dark', 'author': 'Sager, Riley', 'genre': 'Horror'},\n",
    "         {'title': 'The Mysterious Affair at Styles', 'author': 'Christie, Agatha', 'genre': 'Mystery'},\n",
    "         {'title': 'The House Across the Lake', 'author': 'Sager, Riley', 'genre': 'Thriller'},\n",
    "         {'title': '10% Happier', 'author': 'Harris, Dan', 'genre': 'Nonfiction'}]\n",
    "\n",
    "user_input = input('Select a genre: ')\n",
    "\n",
    "for book in books:\n",
    "    if book['genre'] == user_input:\n",
    "        print(book['title'])\n",
    "    else:\n",
    "        continue"
   ]
  },
  {
   "cell_type": "code",
   "execution_count": null,
   "id": "53c4ee15",
   "metadata": {},
   "outputs": [],
   "source": []
  },
  {
   "cell_type": "code",
   "execution_count": null,
   "id": "9c255b49",
   "metadata": {},
   "outputs": [],
   "source": []
  }
 ],
 "metadata": {
  "kernelspec": {
   "display_name": "Python 3 (ipykernel)",
   "language": "python",
   "name": "python3"
  },
  "language_info": {
   "codemirror_mode": {
    "name": "ipython",
    "version": 3
   },
   "file_extension": ".py",
   "mimetype": "text/x-python",
   "name": "python",
   "nbconvert_exporter": "python",
   "pygments_lexer": "ipython3",
   "version": "3.11.5"
  }
 },
 "nbformat": 4,
 "nbformat_minor": 5
}
