{
 "cells": [
  {
   "cell_type": "code",
   "execution_count": 1,
   "id": "fe17ef1f",
   "metadata": {},
   "outputs": [
    {
     "data": {
      "text/plain": [
       "2"
      ]
     },
     "execution_count": 1,
     "metadata": {},
     "output_type": "execute_result"
    }
   ],
   "source": [
    "1 + 1"
   ]
  },
  {
   "cell_type": "markdown",
   "id": "f34ba99f",
   "metadata": {},
   "source": [
    "The above shows basic addition."
   ]
  },
  {
   "cell_type": "code",
   "execution_count": 2,
   "id": "c14eed85",
   "metadata": {},
   "outputs": [
    {
     "name": "stdout",
     "output_type": "stream",
     "text": [
      "My name is Rabeka\n"
     ]
    }
   ],
   "source": [
    "print(\"My name is Rabeka\")"
   ]
  },
  {
   "cell_type": "markdown",
   "id": "c0fab373",
   "metadata": {},
   "source": [
    "The above prints the statement between parenthesis"
   ]
  },
  {
   "cell_type": "code",
   "execution_count": 7,
   "id": "07ad7304",
   "metadata": {},
   "outputs": [
    {
     "name": "stdout",
     "output_type": "stream",
     "text": [
      "9\n"
     ]
    }
   ],
   "source": [
    "x = 3\n",
    "print(x * x)"
   ]
  },
  {
   "cell_type": "markdown",
   "id": "1ff9034a",
   "metadata": {},
   "source": [
    "The above shows a squared number"
   ]
  }
 ],
 "metadata": {
  "kernelspec": {
   "display_name": "Python 3 (ipykernel)",
   "language": "python",
   "name": "python3"
  },
  "language_info": {
   "codemirror_mode": {
    "name": "ipython",
    "version": 3
   },
   "file_extension": ".py",
   "mimetype": "text/x-python",
   "name": "python",
   "nbconvert_exporter": "python",
   "pygments_lexer": "ipython3",
   "version": "3.11.5"
  }
 },
 "nbformat": 4,
 "nbformat_minor": 5
}
