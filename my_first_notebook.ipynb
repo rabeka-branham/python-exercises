{
 "cells": [
  {
   "cell_type": "code",
   "execution_count": 1,
   "id": "fe17ef1f",
   "metadata": {
    "tags": []
   },
   "outputs": [
    {
     "data": {
      "text/plain": [
       "2"
      ]
     },
     "execution_count": 1,
     "metadata": {},
     "output_type": "execute_result"
    }
   ],
   "source": [
    "#shift return: will execute & take you to a new cell\n",
    "1 + 1"
   ]
  },
  {
   "cell_type": "code",
   "execution_count": 2,
   "id": "42836ab7-3c59-4ed6-9363-2b6e20e82df5",
   "metadata": {
    "tags": []
   },
   "outputs": [
    {
     "name": "stdout",
     "output_type": "stream",
     "text": [
      "Hello, World!\n"
     ]
    }
   ],
   "source": [
    "print('Hello, World!')"
   ]
  },
  {
   "cell_type": "code",
   "execution_count": 3,
   "id": "b3c8dd04-028a-4535-a9d5-6508bd995e13",
   "metadata": {
    "tags": []
   },
   "outputs": [
    {
     "name": "stdout",
     "output_type": "stream",
     "text": [
      "3\n"
     ]
    }
   ],
   "source": [
    "a = 1\n",
    "b = 2\n",
    "print(a + b)"
   ]
  },
  {
   "cell_type": "markdown",
   "id": "fd02741b",
   "metadata": {},
   "source": [
    "esc + m: This is going to make a markdown cell"
   ]
  },
  {
   "cell_type": "code",
   "execution_count": 3,
   "id": "c14eed85",
   "metadata": {},
   "outputs": [],
   "source": [
    "#shift + l: will show your line numbers"
   ]
  },
  {
   "cell_type": "code",
   "execution_count": null,
   "id": "89aa3192",
   "metadata": {},
   "outputs": [],
   "source": [
    "#esc + a: insert line above"
   ]
  },
  {
   "cell_type": "code",
   "execution_count": null,
   "id": "cbea8346",
   "metadata": {},
   "outputs": [],
   "source": [
    "#esc + b: insert line below"
   ]
  }
 ],
 "metadata": {
  "kernelspec": {
   "display_name": "Python 3 (ipykernel)",
   "language": "python",
   "name": "python3"
  },
  "language_info": {
   "codemirror_mode": {
    "name": "ipython",
    "version": 3
   },
   "file_extension": ".py",
   "mimetype": "text/x-python",
   "name": "python",
   "nbconvert_exporter": "python",
   "pygments_lexer": "ipython3",
   "version": "3.11.5"
  }
 },
 "nbformat": 4,
 "nbformat_minor": 5
}
