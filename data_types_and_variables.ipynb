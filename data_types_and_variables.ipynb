{
 "cells": [
  {
   "cell_type": "markdown",
   "id": "af682ce5",
   "metadata": {},
   "source": [
    "1. Identify the data type of the following values:"
   ]
  },
  {
   "cell_type": "code",
   "execution_count": null,
   "id": "454a57b0",
   "metadata": {},
   "outputs": [],
   "source": [
    "type(99.9) \n",
    "\n",
    "# float"
   ]
  },
  {
   "cell_type": "code",
   "execution_count": null,
   "id": "dd811edb",
   "metadata": {},
   "outputs": [],
   "source": [
    "type(\"False\")\n",
    "\n",
    "# str"
   ]
  },
  {
   "cell_type": "code",
   "execution_count": null,
   "id": "0ef27b3e",
   "metadata": {},
   "outputs": [],
   "source": [
    "type(False)\n",
    "\n",
    "# bool"
   ]
  },
  {
   "cell_type": "code",
   "execution_count": null,
   "id": "a5fe1607",
   "metadata": {},
   "outputs": [],
   "source": [
    "type('0')\n",
    "\n",
    "# str"
   ]
  },
  {
   "cell_type": "code",
   "execution_count": null,
   "id": "4eb63cb8",
   "metadata": {},
   "outputs": [],
   "source": [
    "type(0)\n",
    "\n",
    "# int"
   ]
  },
  {
   "cell_type": "code",
   "execution_count": null,
   "id": "a973932b",
   "metadata": {},
   "outputs": [],
   "source": [
    "type(True)\n",
    "\n",
    "# bool"
   ]
  },
  {
   "cell_type": "code",
   "execution_count": null,
   "id": "95f05678",
   "metadata": {},
   "outputs": [],
   "source": [
    "type('True')\n",
    "\n",
    "# str"
   ]
  },
  {
   "cell_type": "code",
   "execution_count": null,
   "id": "ff910bf8",
   "metadata": {},
   "outputs": [],
   "source": [
    "type([{}])\n",
    "\n",
    "# list"
   ]
  },
  {
   "cell_type": "code",
   "execution_count": null,
   "id": "010b8c04",
   "metadata": {},
   "outputs": [],
   "source": [
    "type({'a': []})\n",
    "\n",
    "# dict"
   ]
  },
  {
   "cell_type": "markdown",
   "id": "6bfbb8f3",
   "metadata": {},
   "source": [
    "2. What data type would best represent the following?"
   ]
  },
  {
   "cell_type": "code",
   "execution_count": null,
   "id": "8d147a02",
   "metadata": {},
   "outputs": [],
   "source": [
    "# A term or phrase typed into a search box: str"
   ]
  },
  {
   "cell_type": "code",
   "execution_count": null,
   "id": "0cb63482",
   "metadata": {},
   "outputs": [],
   "source": [
    "# Whether or not a user is logged in: bool"
   ]
  },
  {
   "cell_type": "code",
   "execution_count": null,
   "id": "f0b2fee0",
   "metadata": {},
   "outputs": [],
   "source": [
    "# A discount amount to apply to a user's shopping cart: float"
   ]
  },
  {
   "cell_type": "code",
   "execution_count": null,
   "id": "c97f6473",
   "metadata": {},
   "outputs": [],
   "source": [
    "# Whether or not a coupon code is valid: bool"
   ]
  },
  {
   "cell_type": "code",
   "execution_count": null,
   "id": "5724b0e3",
   "metadata": {},
   "outputs": [],
   "source": [
    "# An email address typed into a registration form: str"
   ]
  },
  {
   "cell_type": "code",
   "execution_count": null,
   "id": "d0a313c1",
   "metadata": {},
   "outputs": [],
   "source": [
    "# The price of a product: float"
   ]
  },
  {
   "cell_type": "code",
   "execution_count": null,
   "id": "88c851a4",
   "metadata": {},
   "outputs": [],
   "source": [
    "# The email addresses collected from a registration form: list"
   ]
  },
  {
   "cell_type": "code",
   "execution_count": null,
   "id": "8aacc693",
   "metadata": {},
   "outputs": [],
   "source": [
    "# Information about applicants to Codeup's data science program: dict"
   ]
  },
  {
   "cell_type": "markdown",
   "id": "aab4da80",
   "metadata": {},
   "source": [
    "3. For each of the following code blocks:\n",
    "\n",
    "-- Read the expression and predict the evaluated results\n",
    "\n",
    "-- Execute the expression in a Python REPL."
   ]
  },
  {
   "cell_type": "code",
   "execution_count": null,
   "id": "29fbbdb4",
   "metadata": {},
   "outputs": [],
   "source": [
    "'1' + 2\n",
    "\n",
    "# error"
   ]
  },
  {
   "cell_type": "code",
   "execution_count": null,
   "id": "f162c67c",
   "metadata": {},
   "outputs": [],
   "source": [
    "6 % 4\n",
    "\n",
    "# 2"
   ]
  },
  {
   "cell_type": "code",
   "execution_count": null,
   "id": "a5ef8c26",
   "metadata": {},
   "outputs": [],
   "source": [
    "type(6 % 4)\n",
    "\n",
    "# int"
   ]
  },
  {
   "cell_type": "code",
   "execution_count": null,
   "id": "4c5ee497",
   "metadata": {},
   "outputs": [],
   "source": [
    "type(type(6 % 4))\n",
    "\n",
    "# type"
   ]
  },
  {
   "cell_type": "code",
   "execution_count": null,
   "id": "afc5dacb",
   "metadata": {},
   "outputs": [],
   "source": [
    "'3 + 4 is ' + 3 + 4\n",
    "\n",
    "# error"
   ]
  },
  {
   "cell_type": "code",
   "execution_count": null,
   "id": "9d8f7df4",
   "metadata": {},
   "outputs": [],
   "source": [
    "0 < 0\n",
    "\n",
    "# False"
   ]
  },
  {
   "cell_type": "code",
   "execution_count": null,
   "id": "9a4a11d1",
   "metadata": {},
   "outputs": [],
   "source": [
    "'False' == False\n",
    "\n",
    "# False"
   ]
  },
  {
   "cell_type": "code",
   "execution_count": null,
   "id": "0fee218c",
   "metadata": {},
   "outputs": [],
   "source": [
    "True == 'True'\n",
    "\n",
    "# False"
   ]
  },
  {
   "cell_type": "code",
   "execution_count": null,
   "id": "c5de3cce",
   "metadata": {},
   "outputs": [],
   "source": [
    "5 >= -5\n",
    "\n",
    "# True "
   ]
  },
  {
   "cell_type": "code",
   "execution_count": null,
   "id": "ccb2087d",
   "metadata": {},
   "outputs": [],
   "source": [
    "True or \"42\"\n",
    "\n",
    "# True"
   ]
  },
  {
   "cell_type": "code",
   "execution_count": null,
   "id": "5e027c9f",
   "metadata": {},
   "outputs": [],
   "source": [
    "6 % 5\n",
    "\n",
    "# 1"
   ]
  },
  {
   "cell_type": "code",
   "execution_count": null,
   "id": "2d86e461",
   "metadata": {},
   "outputs": [],
   "source": [
    "5 < 4 and 1 == 1\n",
    "\n",
    "# False"
   ]
  },
  {
   "cell_type": "code",
   "execution_count": null,
   "id": "06a38e89",
   "metadata": {},
   "outputs": [],
   "source": [
    "'codeup' == 'codeup' and 'codeup' == 'Codeup'\n",
    "\n",
    "# False"
   ]
  },
  {
   "cell_type": "code",
   "execution_count": null,
   "id": "a1f7965f",
   "metadata": {},
   "outputs": [],
   "source": [
    "4 >= 0 and 1 !== '1'\n",
    "\n",
    "# error"
   ]
  },
  {
   "cell_type": "code",
   "execution_count": null,
   "id": "46d57080",
   "metadata": {},
   "outputs": [],
   "source": [
    "6 % 3 == 0\n",
    "\n",
    "# True"
   ]
  },
  {
   "cell_type": "code",
   "execution_count": null,
   "id": "f1e7de31",
   "metadata": {},
   "outputs": [],
   "source": [
    "5 % 2 != 0\n",
    "\n",
    "# True"
   ]
  },
  {
   "cell_type": "code",
   "execution_count": null,
   "id": "a8e9d533",
   "metadata": {},
   "outputs": [],
   "source": [
    "[1] + 2\n",
    "\n",
    "# error"
   ]
  },
  {
   "cell_type": "code",
   "execution_count": null,
   "id": "883a0865",
   "metadata": {},
   "outputs": [],
   "source": [
    "[1] + [2]\n",
    "\n",
    "# [1, 2]"
   ]
  },
  {
   "cell_type": "code",
   "execution_count": null,
   "id": "0fde017b",
   "metadata": {},
   "outputs": [],
   "source": [
    "[1] * 2\n",
    "\n",
    "# [1, 1]"
   ]
  },
  {
   "cell_type": "code",
   "execution_count": null,
   "id": "2473ff36",
   "metadata": {},
   "outputs": [],
   "source": [
    "[1] * [2]\n",
    "\n",
    "# error"
   ]
  },
  {
   "cell_type": "code",
   "execution_count": null,
   "id": "57c46074",
   "metadata": {},
   "outputs": [],
   "source": [
    "[] + [] == []\n",
    "\n",
    "# True"
   ]
  },
  {
   "cell_type": "code",
   "execution_count": null,
   "id": "f1770918",
   "metadata": {},
   "outputs": [],
   "source": [
    "{} + {}\n",
    "\n",
    "# error"
   ]
  },
  {
   "cell_type": "markdown",
   "id": "41cce34b",
   "metadata": {},
   "source": [
    "4. You have rented some movies for your kids:\n",
    "\n",
    "-- The Little Mermaid for 3 days\n",
    "\n",
    "-- Brother Bear for 5 days\n",
    "\n",
    "-- Hercules for 1 day\n",
    "\n",
    "If the daily fee to rent a movie is 3 dollars, how much will you have to pay?"
   ]
  },
  {
   "cell_type": "code",
   "execution_count": 2,
   "id": "e2edb7e8",
   "metadata": {
    "tags": []
   },
   "outputs": [],
   "source": [
    "daily_fee = 3\n",
    "the_little_mermaid = 3\n",
    "brother_bear = 5\n",
    "hercules = 1"
   ]
  },
  {
   "cell_type": "code",
   "execution_count": 3,
   "id": "c28aa3e0",
   "metadata": {
    "tags": []
   },
   "outputs": [
    {
     "data": {
      "text/plain": [
       "27"
      ]
     },
     "execution_count": 3,
     "metadata": {},
     "output_type": "execute_result"
    }
   ],
   "source": [
    "(the_little_mermaid + brother_bear + hercules) * daily_fee"
   ]
  },
  {
   "cell_type": "markdown",
   "id": "52beda53",
   "metadata": {},
   "source": [
    "5. Suppose you're working as a contractor for 3 companies: Google, Amazon and Facebook.\n",
    "\n",
    "They pay you the following hourly rates:\n",
    "\n",
    "-- Google: 400 dollars\n",
    "\n",
    "-- Amazon: 380 dollars\n",
    "\n",
    "-- Facebook: 350 dollars\n",
    "\n",
    "This week you worked: 10 hours for Facebook, 6 hours for Google, and 4 hours for Amazon.\n",
    "\n",
    "How much will you receive in payment for this week?"
   ]
  },
  {
   "cell_type": "code",
   "execution_count": 4,
   "id": "bb567dba",
   "metadata": {
    "tags": []
   },
   "outputs": [
    {
     "data": {
      "text/plain": [
       "7420"
      ]
     },
     "execution_count": 4,
     "metadata": {},
     "output_type": "execute_result"
    }
   ],
   "source": [
    "google_rate = 400\n",
    "amazon_rate = 380\n",
    "facebook_rate = 350\n",
    "\n",
    "facebook_hours = 10\n",
    "google_hours = 6\n",
    "amazon_hours = 4\n",
    "\n",
    "(facebook_hours * facebook_rate) + (google_hours * google_rate) + (amazon_hours * amazon_rate)"
   ]
  },
  {
   "cell_type": "markdown",
   "id": "2bc604b9",
   "metadata": {},
   "source": [
    "6. A student can be enrolled in a class only if the class is not full and the class schedule does not conflict with her current schedule."
   ]
  },
  {
   "cell_type": "code",
   "execution_count": 7,
   "id": "b5d58e75",
   "metadata": {
    "tags": []
   },
   "outputs": [
    {
     "data": {
      "text/plain": [
       "True"
      ]
     },
     "execution_count": 7,
     "metadata": {},
     "output_type": "execute_result"
    }
   ],
   "source": [
    "class_full = False\n",
    "schedule_conflict = False\n",
    "\n",
    "can_enroll = not class_full and not schedule_conflict\n",
    "can_enroll"
   ]
  },
  {
   "cell_type": "markdown",
   "id": "22566e5b",
   "metadata": {},
   "source": [
    "7. A product offer can be applied only if a customer buys more than 2 items, and the offer has not expired. Premium members do not need to buy a specific amount of products."
   ]
  },
  {
   "cell_type": "code",
   "execution_count": 9,
   "id": "cee7d0bd",
   "metadata": {
    "tags": []
   },
   "outputs": [
    {
     "data": {
      "text/plain": [
       "True"
      ]
     },
     "execution_count": 9,
     "metadata": {},
     "output_type": "execute_result"
    }
   ],
   "source": [
    "premium_member = False\n",
    "more_than_two_items = True\n",
    "offer_expired = False\n",
    "\n",
    "offer_applied = (premium_member and not offer_expired) or (not premium_member and more_than_two_items and not offer_expired)\n",
    "offer_applied"
   ]
  },
  {
   "cell_type": "markdown",
   "id": "810fd53a",
   "metadata": {},
   "source": [
    "Use the following code to follow the instructions below:\n",
    "\n",
    "-- username = 'codeup'\n",
    "\n",
    "-- password = 'notastrongpassword'\n",
    "\n",
    "Create a variable that holds a boolean value for each of the following conditions:\n",
    "\n",
    "-- The password must be at least 5 characters\n",
    "\n",
    "-- The username must be no more than 20 characters\n",
    "\n",
    "-- The password must not be the same as the username\n",
    "\n",
    "Bonus: Neither the username or password can start nor end with whitespace"
   ]
  },
  {
   "cell_type": "code",
   "execution_count": 10,
   "id": "ffd1c6be",
   "metadata": {
    "tags": []
   },
   "outputs": [],
   "source": [
    "username = 'codeup'\n",
    "password = 'notastrongpassword'"
   ]
  },
  {
   "cell_type": "code",
   "execution_count": 11,
   "id": "676c26c7",
   "metadata": {
    "tags": []
   },
   "outputs": [],
   "source": [
    "password_at_least_five_characters = len(password) >= 5\n",
    "username_no_more_than_twenty_characters = len(username) <= 20\n",
    "password_different_than_username = password != username"
   ]
  },
  {
   "cell_type": "code",
   "execution_count": 12,
   "id": "94a7ff65",
   "metadata": {
    "tags": []
   },
   "outputs": [
    {
     "data": {
      "text/plain": [
       "True"
      ]
     },
     "execution_count": 12,
     "metadata": {},
     "output_type": "execute_result"
    }
   ],
   "source": [
    "password_at_least_five_characters and username_no_more_than_twenty_characters and password_different_than_username"
   ]
  },
  {
   "cell_type": "code",
   "execution_count": null,
   "id": "2ab0991e-5025-45f2-966e-469100050fd9",
   "metadata": {},
   "outputs": [],
   "source": []
  }
 ],
 "metadata": {
  "kernelspec": {
   "display_name": "Python 3 (ipykernel)",
   "language": "python",
   "name": "python3"
  },
  "language_info": {
   "codemirror_mode": {
    "name": "ipython",
    "version": 3
   },
   "file_extension": ".py",
   "mimetype": "text/x-python",
   "name": "python",
   "nbconvert_exporter": "python",
   "pygments_lexer": "ipython3",
   "version": "3.11.5"
  }
 },
 "nbformat": 4,
 "nbformat_minor": 5
}
