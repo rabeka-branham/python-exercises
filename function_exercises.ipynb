{
 "cells": [
  {
   "cell_type": "markdown",
   "id": "2821ade1",
   "metadata": {},
   "source": [
    "### 1. Define a function named is_two. It should accept one input and return True if the passed input is either the number or the string 2, False otherwise."
   ]
  },
  {
   "cell_type": "code",
   "execution_count": 11,
   "id": "7a901879",
   "metadata": {},
   "outputs": [
    {
     "data": {
      "text/plain": [
       "False"
      ]
     },
     "execution_count": 11,
     "metadata": {},
     "output_type": "execute_result"
    }
   ],
   "source": [
    "def is_two(number):\n",
    "    number = int(number)\n",
    "    return number % 2 == 0\n",
    "\n",
    "is_two(9)"
   ]
  },
  {
   "cell_type": "markdown",
   "id": "088d5944",
   "metadata": {},
   "source": [
    "### 2. Define a function named is_vowel. It should return True if the passed string is a vowel, False otherwise."
   ]
  },
  {
   "cell_type": "code",
   "execution_count": 42,
   "id": "6fbba467",
   "metadata": {},
   "outputs": [
    {
     "data": {
      "text/plain": [
       "True"
      ]
     },
     "execution_count": 42,
     "metadata": {},
     "output_type": "execute_result"
    }
   ],
   "source": [
    "def is_vowel(string):\n",
    "    string = str(string)\n",
    "    if len(string) == 1 and string.lower() in ['a','e','i','o','u']:\n",
    "        return True\n",
    "    else: \n",
    "        return False\n",
    "\n",
    "is_vowel('a')"
   ]
  },
  {
   "cell_type": "markdown",
   "id": "d4a94941",
   "metadata": {},
   "source": [
    "### 3. Define a function named is_consonant. It should return True if the passed string is a consonant, False otherwise. Use your is_vowel function to accomplish this."
   ]
  },
  {
   "cell_type": "code",
   "execution_count": 41,
   "id": "dd104761",
   "metadata": {},
   "outputs": [
    {
     "data": {
      "text/plain": [
       "False"
      ]
     },
     "execution_count": 41,
     "metadata": {},
     "output_type": "execute_result"
    }
   ],
   "source": [
    "def is_consonant(string):\n",
    "    string = str(string)\n",
    "    if len(string) == 1 and string.lower() not in ['a','e','i','o','u'] and string.isalpha():\n",
    "        return True\n",
    "    else: \n",
    "        return False\n",
    "    \n",
    "is_consonant('rabeka')"
   ]
  },
  {
   "cell_type": "markdown",
   "id": "f1afbbe5",
   "metadata": {},
   "source": [
    "### 4. Define a function that accepts a string that is a word. The function should capitalize the first letter of the word if the word starts with a consonant."
   ]
  },
  {
   "cell_type": "code",
   "execution_count": 51,
   "id": "40455ce5",
   "metadata": {},
   "outputs": [
    {
     "data": {
      "text/plain": [
       "'amanda does not start with a consonant'"
      ]
     },
     "execution_count": 51,
     "metadata": {},
     "output_type": "execute_result"
    }
   ],
   "source": [
    "def capitalize_consonant(word):\n",
    "    if word[0].lower() in ['a','e','i','o','u']:\n",
    "        return f'{word} does not start with a consonant'\n",
    "    else:\n",
    "        return word.capitalize()\n",
    "\n",
    "capitalize_consonant('amanda')"
   ]
  },
  {
   "cell_type": "markdown",
   "id": "f08348bd",
   "metadata": {},
   "source": [
    "### 5. Define a function named calculate_tip. It should accept a tip percentage (a number between 0 and 1) and the bill total, and return the amount to tip."
   ]
  },
  {
   "cell_type": "code",
   "execution_count": 64,
   "id": "d0f2b44e",
   "metadata": {},
   "outputs": [
    {
     "data": {
      "text/plain": [
       "'The amount to tip at 30% is $30.00!'"
      ]
     },
     "execution_count": 64,
     "metadata": {},
     "output_type": "execute_result"
    }
   ],
   "source": [
    "def calculate_tip(bill_total, tip_percentage=.2):\n",
    "    tip_amount = bill_total * tip_percentage\n",
    "    return f'The amount to tip at {int(tip_percentage * 100)}% is ${tip_amount:.2f}!'\n",
    "\n",
    "calculate_tip(100,.3)"
   ]
  },
  {
   "cell_type": "markdown",
   "id": "996b8058",
   "metadata": {},
   "source": [
    "### 6. Define a function named apply_discount. It should accept a original price, and a discount percentage, and return the price after the discount is applied."
   ]
  },
  {
   "cell_type": "code",
   "execution_count": 65,
   "id": "959760fa",
   "metadata": {},
   "outputs": [
    {
     "data": {
      "text/plain": [
       "'The price after your discount is now $80.00!'"
      ]
     },
     "execution_count": 65,
     "metadata": {},
     "output_type": "execute_result"
    }
   ],
   "source": [
    "def apply_discount(original_price, discount_percentage):\n",
    "    discounted_price = original_price * (1 - discount_percentage)\n",
    "    return f'The price after your discount is now ${discounted_price:.2f}!'\n",
    "\n",
    "apply_discount(100,.2)"
   ]
  },
  {
   "cell_type": "markdown",
   "id": "0a77e89b",
   "metadata": {},
   "source": [
    "### 7. Define a function named handle_commas. It should accept a string that is a number that contains commas in it as input, and return a number as output."
   ]
  },
  {
   "cell_type": "code",
   "execution_count": 76,
   "id": "3f691f76",
   "metadata": {},
   "outputs": [
    {
     "data": {
      "text/plain": [
       "False"
      ]
     },
     "execution_count": 76,
     "metadata": {},
     "output_type": "execute_result"
    }
   ],
   "source": [
    "def handle_commas(number):\n",
    "    if type(number) == str:\n",
    "        number = number.replace(',', '')\n",
    "        if number.isdigit():\n",
    "            return int(number)\n",
    "        else:\n",
    "            return False\n",
    "    else:\n",
    "        return False\n",
    "\n",
    "handle_commas(345)"
   ]
  },
  {
   "cell_type": "markdown",
   "id": "81af1edc",
   "metadata": {},
   "source": [
    "### 8. Define a function named get_letter_grade. It should accept a number and return the letter grade associated with that number (A-F)."
   ]
  },
  {
   "cell_type": "code",
   "execution_count": 80,
   "id": "9372042d",
   "metadata": {},
   "outputs": [
    {
     "data": {
      "text/plain": [
       "'Letter Grade: A'"
      ]
     },
     "execution_count": 80,
     "metadata": {},
     "output_type": "execute_result"
    }
   ],
   "source": [
    "def get_letter_grade(number_grade):\n",
    "    if type(number_grade) == int:\n",
    "        if number_grade >= 90:\n",
    "            return 'Letter Grade: A'\n",
    "        elif number_grade >= 80:\n",
    "            return 'Letter Grade: B'\n",
    "        elif number_grade >= 75:\n",
    "            return 'Letter Grade: C'\n",
    "        elif number_grade >= 70:\n",
    "            return 'Letter Grade: D'\n",
    "        else:\n",
    "            return 'Letter Grade: F'\n",
    "    else:\n",
    "        return f'{number_grade} is not a valid input'\n",
    "    \n",
    "get_letter_grade(93)"
   ]
  },
  {
   "cell_type": "markdown",
   "id": "2fdfdaa8",
   "metadata": {},
   "source": [
    "### 9. Define a function named remove_vowels that accepts a string and returns a string with all the vowels removed."
   ]
  },
  {
   "cell_type": "code",
   "execution_count": 84,
   "id": "af18b150",
   "metadata": {},
   "outputs": [
    {
     "data": {
      "text/plain": [
       "'Sq'"
      ]
     },
     "execution_count": 84,
     "metadata": {},
     "output_type": "execute_result"
    }
   ],
   "source": [
    "def remove_vowels(user_input):\n",
    "    for char in user_input:\n",
    "        if is_vowel(char):\n",
    "            user_input = user_input.replace(char, '')\n",
    "        else:\n",
    "            continue\n",
    "    return user_input\n",
    "\n",
    "remove_vowels('Sequoia')"
   ]
  },
  {
   "cell_type": "markdown",
   "id": "83b975c5",
   "metadata": {},
   "source": [
    "### 10. Define a function named normalize_name. It should accept a string and return a valid python identifier, that is:\n",
    "* anything that is not a valid python identifier should be removed\n",
    "* leading and trailing whitespace should be removed\n",
    "* everything should be lowercase\n",
    "* spaces should be replaced with underscores\n",
    "* for example:\n",
    "    *  Name will become name\n",
    "    * First Name will become first_name\n",
    "    * % Completed will become completed"
   ]
  },
  {
   "cell_type": "code",
   "execution_count": 115,
   "id": "410b82c9",
   "metadata": {},
   "outputs": [
    {
     "ename": "SyntaxError",
     "evalue": "'continue' not properly in loop (1176560216.py, line 8)",
     "output_type": "error",
     "traceback": [
      "\u001b[0;36m  Cell \u001b[0;32mIn[115], line 8\u001b[0;36m\u001b[0m\n\u001b[0;31m    continue\u001b[0m\n\u001b[0m    ^\u001b[0m\n\u001b[0;31mSyntaxError\u001b[0m\u001b[0;31m:\u001b[0m 'continue' not properly in loop\n"
     ]
    }
   ],
   "source": [
    "import string\n",
    "\n",
    "def normalize_name(name):\n",
    "    special_chars = string.punctuation\n",
    "    if name[0].isdigit():\n",
    "        name = name.replace(name[0],'')\n",
    "\n",
    "    for char in name:\n",
    "        if char.isdigit():\n",
    "            name = name.replace(name[0],'')\n",
    "        elif char in special_chars:\n",
    "            name = name.replace(char, '')\n",
    "        else:\n",
    "            continue\n",
    "    return name.lower().strip().replace(' ','_')\n",
    "\n",
    "normalize_name('45R4Beka  Jun45e!@#$')"
   ]
  },
  {
   "cell_type": "markdown",
   "id": "29d616dd",
   "metadata": {},
   "source": [
    "### 11. Write a function named cumulative_sum that accepts a list of numbers and returns a list that is the cumulative sum of the numbers in the list.\n",
    "* cumulative_sum([1, 1, 1]) returns [1, 2, 3]\n",
    "* cumulative_sum([1, 2, 3, 4]) returns [1, 3, 6, 10]"
   ]
  },
  {
   "cell_type": "code",
   "execution_count": 103,
   "id": "2f78448b",
   "metadata": {},
   "outputs": [
    {
     "name": "stdout",
     "output_type": "stream",
     "text": [
      "old list: [1, 1, 1]\n",
      "new list: [1, 2, 3]\n"
     ]
    }
   ],
   "source": [
    "def cumulative_sum(oldlist):\n",
    "    newlist=[]\n",
    "    c_sum = 0\n",
    "    for num in oldlist:\n",
    "        c_sum += num\n",
    "        newlist.append(c_sum)\n",
    "    print(f'old list: {oldlist}')\n",
    "    print(f'new list: {newlist}')\n",
    "        \n",
    "cumulative_sum([1, 1, 1])"
   ]
  }
 ],
 "metadata": {
  "kernelspec": {
   "display_name": "Python 3 (ipykernel)",
   "language": "python",
   "name": "python3"
  },
  "language_info": {
   "codemirror_mode": {
    "name": "ipython",
    "version": 3
   },
   "file_extension": ".py",
   "mimetype": "text/x-python",
   "name": "python",
   "nbconvert_exporter": "python",
   "pygments_lexer": "ipython3",
   "version": "3.11.5"
  }
 },
 "nbformat": 4,
 "nbformat_minor": 5
}
