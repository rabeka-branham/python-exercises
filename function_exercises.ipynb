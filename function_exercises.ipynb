{
 "cells": [
  {
   "cell_type": "markdown",
   "id": "2821ade1",
   "metadata": {},
   "source": [
    "### 1. Define a function named is_two. It should accept one input and return True if the passed input is either the number or the string 2, False otherwise."
   ]
  },
  {
   "cell_type": "code",
   "execution_count": null,
   "id": "7a901879",
   "metadata": {},
   "outputs": [],
   "source": [
    "def is_two():\n",
    "    number = int(input('Pick a number: '))\n",
    "    return number % 2 == 0\n",
    "\n",
    "is_two()"
   ]
  },
  {
   "cell_type": "markdown",
   "id": "088d5944",
   "metadata": {},
   "source": [
    "### 2. Define a function named is_vowel. It should return True if the passed string is a vowel, False otherwise."
   ]
  },
  {
   "cell_type": "code",
   "execution_count": null,
   "id": "6fbba467",
   "metadata": {},
   "outputs": [],
   "source": [
    "def is_vowel():\n",
    "    letter = input('Pick a letter: ')\n",
    "    if letter.lower() in ['a','e','i','o','u']:\n",
    "        return True\n",
    "    else: \n",
    "        return False\n",
    "\n",
    "is_vowel()"
   ]
  },
  {
   "cell_type": "markdown",
   "id": "d4a94941",
   "metadata": {},
   "source": [
    "### 3. Define a function named is_consonant. It should return True if the passed string is a consonant, False otherwise. Use your is_vowel function to accomplish this."
   ]
  },
  {
   "cell_type": "code",
   "execution_count": null,
   "id": "dd104761",
   "metadata": {},
   "outputs": [],
   "source": [
    "def is_consonant():\n",
    "    letter = input('Pick a letter: ')\n",
    "    if letter.lower() in ['a','e','i','o','u']:\n",
    "        return False\n",
    "    else: \n",
    "        return True\n",
    "\n",
    "is_consonant()"
   ]
  },
  {
   "cell_type": "markdown",
   "id": "f1afbbe5",
   "metadata": {},
   "source": [
    "### 4. Define a function that accepts a string that is a word. The function should capitalize the first letter of the word if the word starts with a consonant."
   ]
  },
  {
   "cell_type": "code",
   "execution_count": null,
   "id": "40455ce5",
   "metadata": {},
   "outputs": [],
   "source": [
    "def capitalize_consonant():\n",
    "    word = input('Pick a word: ')\n",
    "    if word[0] in ['a','e','i','o','u']:\n",
    "        return word.lower()\n",
    "    else:\n",
    "        return word.capitalize()\n",
    "\n",
    "capitalize_consonant()"
   ]
  },
  {
   "cell_type": "markdown",
   "id": "f08348bd",
   "metadata": {},
   "source": [
    "### 5. Define a function named calculate_tip. It should accept a tip percentage (a number between 0 and 1) and the bill total, and return the amount to tip."
   ]
  },
  {
   "cell_type": "code",
   "execution_count": null,
   "id": "d0f2b44e",
   "metadata": {},
   "outputs": [],
   "source": [
    "def calculate_tip():\n",
    "    bill_total = float(input('How much was your bill? '))\n",
    "    tip_percentage = float(input('What percent would you like to tip? Please enter a # between 0 and 1: '))\n",
    "    tip_amount = bill_total * tip_percentage\n",
    "    return f'The amount to tip is ${tip_amount:.2f}!'\n",
    "\n",
    "calculate_tip()"
   ]
  },
  {
   "cell_type": "markdown",
   "id": "996b8058",
   "metadata": {},
   "source": [
    "### 6. Define a function named apply_discount. It should accept a original price, and a discount percentage, and return the price after the discount is applied."
   ]
  },
  {
   "cell_type": "code",
   "execution_count": null,
   "id": "959760fa",
   "metadata": {},
   "outputs": [],
   "source": [
    "def apply_discount():\n",
    "    original_price = float(input('Original Price: '))\n",
    "    discount_percentage = float(input('Discount Percentage: '))\n",
    "    discounted_price = original_price - (original_price * discount_percentage)\n",
    "    return f'The price after your discount is now ${discounted_price:.2f}!'\n",
    "\n",
    "apply_discount()"
   ]
  },
  {
   "cell_type": "markdown",
   "id": "0a77e89b",
   "metadata": {},
   "source": [
    "### 7. Define a function named handle_commas. It should accept a string that is a number that contains commas in it as input, and return a number as output."
   ]
  },
  {
   "cell_type": "code",
   "execution_count": null,
   "id": "3f691f76",
   "metadata": {},
   "outputs": [],
   "source": [
    "def handle_commas():\n",
    "    number = input('Pick a number greater than 999: ')\n",
    "    number = int(number.replace(',', ''))\n",
    "    return(number)\n",
    "\n",
    "handle_commas()"
   ]
  },
  {
   "cell_type": "markdown",
   "id": "81af1edc",
   "metadata": {},
   "source": [
    "### 8. Define a function named get_letter_grade. It should accept a number and return the letter grade associated with that number (A-F)."
   ]
  },
  {
   "cell_type": "code",
   "execution_count": null,
   "id": "9372042d",
   "metadata": {},
   "outputs": [],
   "source": [
    "def get_letter_grade():\n",
    "    number_grade = int(input('Enter your current number grade: '))\n",
    "    if number_grade >= 90:\n",
    "        return 'Letter Grade: A'\n",
    "    elif number_grade >= 80:\n",
    "        return 'Letter Grade: B'\n",
    "    elif number_grade >= 75:\n",
    "        return 'Letter Grade: C'\n",
    "    elif number_grade >= 70:\n",
    "        return 'Letter Grade: D'\n",
    "    else:\n",
    "        return 'Letter Grade: F'\n",
    "    \n",
    "get_letter_grade()"
   ]
  },
  {
   "cell_type": "markdown",
   "id": "2fdfdaa8",
   "metadata": {},
   "source": [
    "### 9. Define a function named remove_vowels that accepts a string and returns a string with all the vowels removed."
   ]
  },
  {
   "cell_type": "code",
   "execution_count": null,
   "id": "af18b150",
   "metadata": {},
   "outputs": [],
   "source": [
    "def remove_vowels():\n",
    "    user_input = input('Type a word or sentence: ')\n",
    "    for char in user_input:\n",
    "        if char.lower() in ['a','e','i','o','u']:\n",
    "            user_input = user_input.replace(char, '')\n",
    "        else:\n",
    "            continue\n",
    "    return user_input\n",
    "\n",
    "remove_vowels()"
   ]
  },
  {
   "cell_type": "markdown",
   "id": "83b975c5",
   "metadata": {},
   "source": [
    "### 10. Define a function named normalize_name. It should accept a string and return a valid python identifier, that is:\n",
    "* anything that is not a valid python identifier should be removed\n",
    "* leading and trailing whitespace should be removed\n",
    "* everything should be lowercase\n",
    "* spaces should be replaced with underscores\n",
    "* for example:\n",
    "    *  Name will become name\n",
    "    * First Name will become first_name\n",
    "    * % Completed will become completed"
   ]
  },
  {
   "cell_type": "code",
   "execution_count": 103,
   "id": "410b82c9",
   "metadata": {},
   "outputs": [
    {
     "name": "stdout",
     "output_type": "stream",
     "text": [
      "What\\s your name? Rabeka  JUNE !#@!\n"
     ]
    },
    {
     "data": {
      "text/plain": [
       "'rabeka__june'"
      ]
     },
     "execution_count": 103,
     "metadata": {},
     "output_type": "execute_result"
    }
   ],
   "source": [
    "import string\n",
    "\n",
    "def normalize_name():\n",
    "    name = input('What\\s your name? ')\n",
    "    special_chars = string.punctuation\n",
    "    for char in name:\n",
    "        if char in special_chars:\n",
    "            name = name.replace(char, '')\n",
    "        else:\n",
    "            continue\n",
    "    return name.lower().strip().replace(' ','_')\n",
    "\n",
    "normalize_name()"
   ]
  },
  {
   "cell_type": "markdown",
   "id": "29d616dd",
   "metadata": {},
   "source": [
    "### 11. Write a function named cumulative_sum that accepts a list of numbers and returns a list that is the cumulative sum of the numbers in the list.\n",
    "* cumulative_sum([1, 1, 1]) returns [1, 2, 3]\n",
    "* cumulative_sum([1, 2, 3, 4]) returns [1, 3, 6, 10]"
   ]
  },
  {
   "cell_type": "code",
   "execution_count": 116,
   "id": "d8340996",
   "metadata": {},
   "outputs": [
    {
     "data": {
      "text/plain": [
       "array([1, 2, 3])"
      ]
     },
     "execution_count": 116,
     "metadata": {},
     "output_type": "execute_result"
    }
   ],
   "source": [
    "import numpy as np\n",
    "\n",
    "def cumulative_sum(list_of_numbers):\n",
    "    return np.cumsum(list_of_numbers)\n",
    "\n",
    "cumulative_sum([1, 1, 1])"
   ]
  },
  {
   "cell_type": "code",
   "execution_count": 117,
   "id": "6b2a5b3a",
   "metadata": {},
   "outputs": [
    {
     "data": {
      "text/plain": [
       "[1, 2, 3]"
      ]
     },
     "execution_count": 117,
     "metadata": {},
     "output_type": "execute_result"
    }
   ],
   "source": [
    "import itertools  \n",
    "\n",
    "def cumulative_sum(list_of_numbers):\n",
    "    return list(itertools.accumulate(list_of_numbers))\n",
    "\n",
    "cumulative_sum([1, 1, 1])"
   ]
  },
  {
   "cell_type": "code",
   "execution_count": null,
   "id": "6853d648",
   "metadata": {},
   "outputs": [],
   "source": []
  }
 ],
 "metadata": {
  "kernelspec": {
   "display_name": "Python 3 (ipykernel)",
   "language": "python",
   "name": "python3"
  },
  "language_info": {
   "codemirror_mode": {
    "name": "ipython",
    "version": 3
   },
   "file_extension": ".py",
   "mimetype": "text/x-python",
   "name": "python",
   "nbconvert_exporter": "python",
   "pygments_lexer": "ipython3",
   "version": "3.11.5"
  }
 },
 "nbformat": 4,
 "nbformat_minor": 5
}
