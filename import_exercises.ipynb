{
 "cells": [
  {
   "cell_type": "markdown",
   "id": "8839cb1b-fe5d-4ba6-ac50-e20c1060f1bf",
   "metadata": {},
   "source": [
    "# Create a jupyter notebook named import_exercises.ipynb. Use from to import the get_letter_grade function and give it an alias. Test this function in your notebook."
   ]
  },
  {
   "cell_type": "code",
   "execution_count": 41,
   "id": "16cae6a1-4c32-4a67-941d-1060a618c972",
   "metadata": {
    "tags": []
   },
   "outputs": [],
   "source": [
    "from function_exercises import get_letter_grade as glt"
   ]
  },
  {
   "cell_type": "code",
   "execution_count": 42,
   "id": "eb40836f-0604-4a01-9f2d-67e7886b2430",
   "metadata": {
    "tags": []
   },
   "outputs": [
    {
     "data": {
      "text/plain": [
       "'Letter Grade: A'"
      ]
     },
     "execution_count": 42,
     "metadata": {},
     "output_type": "execute_result"
    }
   ],
   "source": [
    "glt(97)"
   ]
  },
  {
   "cell_type": "markdown",
   "id": "5e6cabba-5ee1-41e4-b352-bb28b40836cd",
   "metadata": {},
   "source": [
    "# Read about and use the itertools module from the python standard library to help you solve the following problems. Note: Many of these functions in this library return an object, to see the results of the function, cast this object as a list."
   ]
  },
  {
   "cell_type": "code",
   "execution_count": 45,
   "id": "c4e84a76-ec3f-4abe-86a3-f4b421cbfa5c",
   "metadata": {},
   "outputs": [],
   "source": [
    "import itertools"
   ]
  },
  {
   "cell_type": "markdown",
   "id": "64b9e9f7-610d-4c79-bef6-36d7a7b83e36",
   "metadata": {},
   "source": [
    "### How many different ways can you combine a single letter from \"abc\" with either 1, 2, or 3?"
   ]
  },
  {
   "cell_type": "code",
   "execution_count": 49,
   "id": "9390deee-1476-405f-8651-cdfc54e839fa",
   "metadata": {
    "tags": []
   },
   "outputs": [
    {
     "name": "stdout",
     "output_type": "stream",
     "text": [
      "[('a', 1), ('a', 2), ('a', 3), ('b', 1), ('b', 2), ('b', 3), ('c', 1), ('c', 2), ('c', 3)]\n",
      "[('a', '1'), ('a', '2'), ('a', '3'), ('b', '1'), ('b', '2'), ('b', '3'), ('c', '1'), ('c', '2'), ('c', '3')]\n",
      "9\n"
     ]
    }
   ],
   "source": [
    "print(list(itertools.product('abc', '123')))\n",
    "print(len(list(itertools.product('abc', '123'))))"
   ]
  },
  {
   "cell_type": "markdown",
   "id": "0b37fb3d-64d2-404f-bf9b-8373293e1ded",
   "metadata": {},
   "source": [
    "### How many different combinations are there of 2 letters from \"abcd\"?"
   ]
  },
  {
   "cell_type": "code",
   "execution_count": 59,
   "id": "bdddb82a-3dbc-4cc3-927c-38da2111ccf7",
   "metadata": {
    "tags": []
   },
   "outputs": [
    {
     "name": "stdout",
     "output_type": "stream",
     "text": [
      "[('a', 'b'), ('a', 'c'), ('a', 'd'), ('b', 'c'), ('b', 'd'), ('c', 'd')]\n",
      "6\n"
     ]
    }
   ],
   "source": [
    "print(list(itertools.combinations('abcd',2)))\n",
    "print(len(list(itertools.combinations('abcd',2))))"
   ]
  },
  {
   "cell_type": "markdown",
   "id": "204323fa-e024-4c56-b9ad-b26897d80f08",
   "metadata": {},
   "source": [
    "### How many different permutations are there of 2 letters from \"abcd\"?"
   ]
  },
  {
   "cell_type": "code",
   "execution_count": 65,
   "id": "7d15a370-bf10-40c3-a4d0-d3e85ae2f8af",
   "metadata": {
    "tags": []
   },
   "outputs": [
    {
     "name": "stdout",
     "output_type": "stream",
     "text": [
      "[('a', 'b'), ('a', 'c'), ('a', 'd'), ('b', 'a'), ('b', 'c'), ('b', 'd'), ('c', 'a'), ('c', 'b'), ('c', 'd'), ('d', 'a'), ('d', 'b'), ('d', 'c')]\n",
      "12\n"
     ]
    }
   ],
   "source": [
    "print(list(itertools.permutations('abcd',2)))\n",
    "print(len(list(itertools.permutations('abcd',2))))"
   ]
  },
  {
   "cell_type": "markdown",
   "id": "a4e47ab4-a39d-4ec9-9da9-1094a712faba",
   "metadata": {},
   "source": [
    "# Save this file as profiles.json inside of your exercises directory (right click -> save file as...).\n",
    "\n",
    "# Use the load function from the json module to open this file."
   ]
  },
  {
   "cell_type": "code",
   "execution_count": null,
   "id": "584b452b-77ca-408e-8665-ca829778823a",
   "metadata": {
    "tags": []
   },
   "outputs": [],
   "source": [
    "import json\n",
    "\n",
    "profiles = json.load(open('profiles.json'))"
   ]
  },
  {
   "cell_type": "markdown",
   "id": "22307385-1398-40eb-9545-f94ba53f92fc",
   "metadata": {},
   "source": [
    "\n",
    "# Your code should produce a list of dictionaries. Using this data, write some code that calculates and outputs the following information:"
   ]
  },
  {
   "cell_type": "markdown",
   "id": "828f8ac2-7acb-4ee2-bf6e-6f4b03c321b6",
   "metadata": {},
   "source": [
    "### Total number of users"
   ]
  },
  {
   "cell_type": "code",
   "execution_count": 66,
   "id": "5c0c6f9c-c8df-461d-94e3-07cab82102a9",
   "metadata": {
    "tags": []
   },
   "outputs": [
    {
     "name": "stdout",
     "output_type": "stream",
     "text": [
      "19\n"
     ]
    }
   ],
   "source": [
    "print(len(profiles))"
   ]
  },
  {
   "cell_type": "markdown",
   "id": "2cd13779-4196-46f3-902e-2d4bf8f75f89",
   "metadata": {},
   "source": [
    "### Number of active users"
   ]
  },
  {
   "cell_type": "code",
   "execution_count": 68,
   "id": "ee1d7102-9b06-46c6-b7e0-74fca6540843",
   "metadata": {
    "tags": []
   },
   "outputs": [
    {
     "name": "stdout",
     "output_type": "stream",
     "text": [
      "9\n"
     ]
    }
   ],
   "source": [
    "count = 0\n",
    "for profile in profiles:\n",
    "    if profile['isActive'] == True:\n",
    "        count += 1\n",
    "    else:\n",
    "        continue\n",
    "\n",
    "print(count)"
   ]
  },
  {
   "cell_type": "markdown",
   "id": "a7b47fab-3144-46b0-a67e-c0168304a4bc",
   "metadata": {},
   "source": [
    "### Number of inactive users"
   ]
  },
  {
   "cell_type": "code",
   "execution_count": 69,
   "id": "f785aaf5-55a4-4569-a310-3c0d5c4c4825",
   "metadata": {
    "tags": []
   },
   "outputs": [
    {
     "name": "stdout",
     "output_type": "stream",
     "text": [
      "10\n"
     ]
    }
   ],
   "source": [
    "count = 0\n",
    "for profile in profiles:\n",
    "    if profile['isActive'] == False:\n",
    "        count += 1\n",
    "    else: \n",
    "        continue\n",
    "\n",
    "print(count)"
   ]
  },
  {
   "cell_type": "markdown",
   "id": "3d7d2be6-9ee3-4660-a3b9-353c5c9403d1",
   "metadata": {},
   "source": [
    "### Grand total of balances for all users"
   ]
  },
  {
   "cell_type": "code",
   "execution_count": 100,
   "id": "00096285-88f7-429a-b755-e8f7bbee0bde",
   "metadata": {
    "tags": []
   },
   "outputs": [
    {
     "name": "stdout",
     "output_type": "stream",
     "text": [
      "52667.02\n"
     ]
    }
   ],
   "source": [
    "grand_total = 0\n",
    "for profile in profiles:\n",
    "    grand_total += float(profile['balance'].replace(',','').replace('$','')) \n",
    "    \n",
    "print(grand_total)"
   ]
  },
  {
   "cell_type": "markdown",
   "id": "23edbda0-97a2-4a53-9c7d-f7209ed33515",
   "metadata": {},
   "source": [
    "### Average balance per user"
   ]
  },
  {
   "cell_type": "code",
   "execution_count": 99,
   "id": "4b70725d-ee01-424e-9f45-336a4fba5409",
   "metadata": {
    "tags": []
   },
   "outputs": [
    {
     "name": "stdout",
     "output_type": "stream",
     "text": [
      "2771.95\n"
     ]
    }
   ],
   "source": [
    "import statistics\n",
    "\n",
    "balances = []\n",
    "for profile in profiles:\n",
    "    balances.append(float(profile['balance'].replace(',','').replace('$','')))\n",
    "    \n",
    "print(round(statistics.mean(balances),2))"
   ]
  },
  {
   "cell_type": "markdown",
   "id": "1b4bd9f2-36a0-4954-93db-b029ff58bb76",
   "metadata": {},
   "source": [
    "### User with the lowest balance"
   ]
  },
  {
   "cell_type": "code",
   "execution_count": 128,
   "id": "dea91a7f-03e7-4156-a780-3d591108c4e4",
   "metadata": {
    "tags": []
   },
   "outputs": [
    {
     "name": "stdout",
     "output_type": "stream",
     "text": [
      "1214.10\n"
     ]
    }
   ],
   "source": [
    "balances = []\n",
    "for profile in profiles:\n",
    "    balances.append(float(profile['balance'].replace(',','').replace('$','')))\n",
    "    \n",
    "print(f'{min(balances):.2f}')"
   ]
  },
  {
   "cell_type": "code",
   "execution_count": 131,
   "id": "f9d12e5b-5f63-4517-91cd-d1e85f5f4afd",
   "metadata": {
    "tags": []
   },
   "outputs": [
    {
     "data": {
      "text/plain": [
       "['Hebert Estes',\n",
       " 'Allison Wynn',\n",
       " 'Jacobs Floyd',\n",
       " 'Fay Hammond',\n",
       " 'Chasity Marsh',\n",
       " 'Camacho Cortez',\n",
       " 'Avery Flynn',\n",
       " 'Michael Cash',\n",
       " 'Madeleine Bray',\n",
       " 'Corine French',\n",
       " 'Trudy Cummings',\n",
       " 'Peggy Mayer',\n",
       " 'Chan Hurley',\n",
       " 'Diaz Pena',\n",
       " 'Heath Castaneda',\n",
       " 'Greer Blankenship',\n",
       " 'Coffey Hayes',\n",
       " 'Leanne Hurst',\n",
       " 'Ewing Larson']"
      ]
     },
     "execution_count": 131,
     "metadata": {},
     "output_type": "execute_result"
    }
   ],
   "source": [
    "balances = []\n",
    "names = []\n",
    "for profile in profiles:\n",
    "    balances.append(float(profile['balance'].replace(',','').replace('$','')))\n",
    "    names.append(profile['name'])\n",
    "    \n",
    "names"
   ]
  },
  {
   "cell_type": "markdown",
   "id": "3644c66f-0c48-43d7-a6c1-b4f30e198db3",
   "metadata": {
    "tags": []
   },
   "source": [
    "### User with the highest balance"
   ]
  },
  {
   "cell_type": "code",
   "execution_count": 108,
   "id": "aa692ef4-cf9b-49a2-8a09-f39c3553b1dd",
   "metadata": {
    "tags": []
   },
   "outputs": [
    {
     "name": "stdout",
     "output_type": "stream",
     "text": [
      "3919.64\n"
     ]
    }
   ],
   "source": [
    "balances = []\n",
    "for profile in profiles:\n",
    "    balances.append(float(profile['balance'].replace(',','').replace('$','')))\n",
    "    \n",
    "print(f'{max(balances):.2f}')"
   ]
  },
  {
   "cell_type": "markdown",
   "id": "685b4fd4-3198-40dd-ac2e-4e245e02c7ac",
   "metadata": {
    "tags": []
   },
   "source": [
    "### Most common favorite fruit"
   ]
  },
  {
   "cell_type": "code",
   "execution_count": 109,
   "id": "8d64435c-a82d-4abd-b6ef-1541f76db8d3",
   "metadata": {
    "tags": []
   },
   "outputs": [
    {
     "name": "stdout",
     "output_type": "stream",
     "text": [
      "('strawberry', 9)\n"
     ]
    }
   ],
   "source": [
    "import collections as c\n",
    "fruits = []\n",
    "for profile in profiles:\n",
    "    fruits.append(profile['favoriteFruit'])\n",
    "\n",
    "most_common = c.Counter(fruits).most_common()[0]\n",
    "\n",
    "print(most_common)"
   ]
  },
  {
   "cell_type": "markdown",
   "id": "54c75ec0-fc96-40e9-a8ee-62b5dc9accba",
   "metadata": {},
   "source": [
    "### Least most common favorite fruit"
   ]
  },
  {
   "cell_type": "code",
   "execution_count": 110,
   "id": "a8b8d512-1c1a-4be5-869f-df4ce4290daa",
   "metadata": {
    "tags": []
   },
   "outputs": [
    {
     "name": "stdout",
     "output_type": "stream",
     "text": [
      "('banana', 4)\n"
     ]
    }
   ],
   "source": [
    "import collections\n",
    "fruits = []\n",
    "for profile in profiles:\n",
    "    fruits.append(profile['favoriteFruit'])\n",
    "\n",
    "least_common = collections.Counter(fruits).most_common()[-1]\n",
    "\n",
    "print(least_common)"
   ]
  },
  {
   "cell_type": "markdown",
   "id": "0aed8eeb-d1b9-4693-b9d6-0e3ca5e107cc",
   "metadata": {},
   "source": [
    "### Total number of unread messages for all users"
   ]
  },
  {
   "cell_type": "code",
   "execution_count": 127,
   "id": "794c1b54-177d-4dd3-a1a4-59754bb49642",
   "metadata": {
    "tags": []
   },
   "outputs": [
    {
     "name": "stdout",
     "output_type": "stream",
     "text": [
      "210\n"
     ]
    }
   ],
   "source": [
    "greetings = []\n",
    "for profile in profiles:\n",
    "    greetings.append(int(list(profile['greeting'].split(' '))[5]))\n",
    "\n",
    "print(sum(greetings))"
   ]
  },
  {
   "cell_type": "markdown",
   "id": "66d3f462-0ee5-4494-85cb-f45ce10bcf91",
   "metadata": {},
   "source": [
    "# BONUS\n",
    "\n",
    "### Continue to use the list of dictionaries.\n",
    "\n",
    "### Find out how many total unique tags there are for all users\n"
   ]
  },
  {
   "cell_type": "code",
   "execution_count": null,
   "id": "55e8a3af-ba69-4fa2-9986-ab0821e8fa70",
   "metadata": {
    "tags": []
   },
   "outputs": [],
   "source": [
    "tags = []\n",
    "\n",
    "for profile in profiles:\n",
    "    tags += profile['tags']\n",
    "      \n",
    "print(len(set(tags)))"
   ]
  },
  {
   "cell_type": "markdown",
   "id": "4323439a-a72d-441f-8238-80c4ff631003",
   "metadata": {},
   "source": [
    "### Display a user's name and all of their respective friends"
   ]
  },
  {
   "cell_type": "code",
   "execution_count": null,
   "id": "a2c328a4-ed26-4be7-a25f-4f5cc6112f9c",
   "metadata": {
    "tags": []
   },
   "outputs": [],
   "source": [
    "for profile in profiles:\n",
    "    person = profile['name']\n",
    "    friends_list = []\n",
    "    for friend in profile['friends']:\n",
    "        friends_list.append(friend['name'])\n",
    "    print(f'{person}: {friends_list}')"
   ]
  }
 ],
 "metadata": {
  "kernelspec": {
   "display_name": "Python 3 (ipykernel)",
   "language": "python",
   "name": "python3"
  },
  "language_info": {
   "codemirror_mode": {
    "name": "ipython",
    "version": 3
   },
   "file_extension": ".py",
   "mimetype": "text/x-python",
   "name": "python",
   "nbconvert_exporter": "python",
   "pygments_lexer": "ipython3",
   "version": "3.11.5"
  }
 },
 "nbformat": 4,
 "nbformat_minor": 5
}
